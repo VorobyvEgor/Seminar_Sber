{
  "cells": [
    {
      "cell_type": "markdown",
      "metadata": {
        "id": "view-in-github",
        "colab_type": "text"
      },
      "source": [
        "<a href=\"https://colab.research.google.com/github/VorobyvEgor/Seminar_Sber/blob/main/Seminars/%D0%A1%D0%B5%D0%BC%D0%B8%D0%BD%D0%B0%D1%80_7.ipynb\" target=\"_parent\"><img src=\"https://colab.research.google.com/assets/colab-badge.svg\" alt=\"Open In Colab\"/></a>"
      ]
    },
    {
      "cell_type": "markdown",
      "metadata": {
        "id": "MHB7lp5BpZxa"
      },
      "source": [
        "# Проверка гипотез\n",
        "&emsp;&emsp;&emsp;&emsp;Выборка: $X^n=(X_1,...,X_n),X \\sim P$<br>\n",
        "Нулевая гипотеза: $H_0:P \\in\\omega$<br>\n",
        "&emsp;&emsp;Альтернатива: $H_1:P \\not\\in\\omega$ <br>мы хотим, глядя на данные, понять какая из гипотез более вероятна,для этого воспользуемся статистикой:<br>\n",
        "&emsp;&emsp;&emsp;Статистика: $T(X^n): T(X^n)\\sim F(x)$ при $H_0$<br>\n",
        "&emsp;&emsp;&emsp; &emsp; &emsp; &emsp;&emsp; &emsp; &emsp;&emsp;&emsp;&emsp;$T(X^n)\\not\\sim F(x)$ при $H_1$<br>\n",
        "$F(x)$-нулевое распределение стастисти\n",
        "Вместе $T$ и $F(x)$ - статистический критерий для проверки $H_0$ против $H_1$<br>\n",
        "\n",
        "---\n",
        "\n",
        "<br>Таким образом собрали выборку, подсчитали значение статистики $T$<br>\n",
        "Насколько оно вероятно при справедливости $H_1$?\n",
        "<br>Какова вероятность при $H_0$ получить значение $t$ или больше?\n",
        "\n",
        "### Достигаемый уровень значимости(p-value):\n",
        "\n",
        "**p** - вероятность при справедливости нулевой гипотезы получить значение статитстики как в эксперименте или еще более экстримальное(относильно альтернативной гипотезы).\n",
        "<br>\n",
        "**p** мало $\\Rightarrow$ данные свидетельствуют против нулевой гипотезы в пользу альтернативы.\n",
        "<br><br>\n",
        "$\\alpha$ - уровень значимости ;$H_0$ отвергается в пользу $H_1$ при $p\\leq\\alpha$\n",
        "\n",
        "---\n",
        "\n",
        "## Ошибки I и II рода\n",
        "  \n",
        "#### Ошибка первого рода критичнее:<br>\n",
        "$P(\\text{ отвергаем } H_0|H_0)$ жестко ограничивается:<br>\n",
        "если $H_0$ отвергается при $p\\leq\\alpha$, то вероятность ошибки первого рода:<br>\n",
        "$P(H_0 \\text{ отвернута } |H_0 \\text{ верна })=P(p\\leq\\alpha|H_0)\\leq\\alpha$<br>\n",
        "Таким образом, правильно построенный критерий имеет вероятность ошибки I рода не больше, чем $\\alpha$\n",
        "\n",
        "#### Ошибку второго рода:\n",
        "\n",
        "$P(\\text{ принимает } H_0|H_1)$ мягко минимизируем<br>\n",
        "\n",
        "#### Мощность критерия:\n",
        "\n",
        "pow = P(отвергаем $H_0|H_1$) = 1 - P(принимаем $H_0|H_1$)  \n",
        "\n",
        "То есть,среди всех критериев, которые корректны, мы выбираем критерий максимальной мощности.  \n",
        "\n",
        "\n",
        "$H_0$ и $H_1$ не равнозначны!\n",
        "\n",
        "\n",
        "<br>Нельза доказать ,что $H_0$ верна:<br>\n",
        "* $p\\leq\\alpha\\Rightarrow H_0$ отвергается в пользу $H_1$<br>\n",
        "* $p >\\alpha\\Rightarrow H_0$ не отвергается в пользу $H_1$<br>\n",
        "\n",
        "Отсутсвие доказательств чего-то не является доказательством обратного!"
      ]
    },
    {
      "cell_type": "markdown",
      "source": [
        "---"
      ],
      "metadata": {
        "id": "JM4JE_zJwz-L"
      }
    },
    {
      "cell_type": "markdown",
      "metadata": {
        "collapsed": true,
        "id": "eqlySovHpZxg"
      },
      "source": [
        "### Статистическая и практическая значимость\n",
        "Интерес представляет не **p**, а размер эффекта- степень отклонения данных от нулевой гипотезы.\n",
        "\n",
        "- **Размер эффекта** это величина, определенная на генеральной совокупности, которой у нас нет(есть только выборка).  \n",
        "\n",
        "- **Оценка размера эффекта** по выборке - случайная величина\n",
        "\n",
        "NOTE:\n",
        "1. **p** показывает, с какой вероятностью такую оценку можно было получить случайно\n",
        "2. **p** зависит не только от размера эффекта,но и от размера выборки\n",
        "\n",
        "По мере увеличения $n$, $H_0$ может сначала приниматься, но потом выявятся более тонкие несоотвествия выборки гипотезе $H_0$, и она будет отвергнута.\n",
        "\n",
        "Именно поэтому даже если мы отвергли нулевую гипотезу, это еще не значит,что эффект имеет практическую значимость.\n",
        "\n",
        "- **Практическую значимость** нужно оценивать отдельно.\n",
        "\n",
        "\n",
        "#### Статистически значимо практически незначимо\n",
        "За три года женщины,упражнявшиеся не меньше часа в день,набрали значимо меньше веса, чем женщины упражнявшиеся меньше 20 минут в день ($P<0.001$).Разница в набранном весе составила 150г. Практическая значимость сомнительна.\n",
        "\n",
        "#### Статистически значимо практически значимо\n",
        "Гормональный препарат ''Премарин'',облегчающий симпотомы менопаузы.\n",
        "В 2002 году клинические испытания были досрочно прерваны.Было обнаружено, что приём ведёт к значительному увеличению риска развития рака груди(на 0.08%) , риска инсульта(на 0.08%) и инфаркта(на 0.07%).\n",
        "Эффект выглядит маленьким, но с учётом численности населения он превращается в тысячи дополнительных смертей.\n",
        "\n",
        "#### Статистически незначимо практически значимо\n",
        "Лекартсво, замедляющее остабление интеллекта больных Альцгеймером.\n",
        "При испытаниях оказывается , что разница в IQ контрольной и тестовой групп составляет 13 пунктов)(практически значимо), но разница статистически незначима. В этом случае нужно увеличить выборку, уменьшить дисперсию оценки эффекта  и продолжить исследование."
      ]
    },
    {
      "cell_type": "markdown",
      "metadata": {
        "id": "ksxuAx9apZxh"
      },
      "source": [
        "### Примеры\n",
        "#### Биномиальный критерий для доли\n",
        "Джеймс Бонд говорит, что предпочитает мартини смешанным, но не взболтанным. Проведём слепой тест (blind test): n раз предложим ему пару напитков и выясним, какой из двух он предпочитает:\n",
        "* **выборка** - бинарный вектор длины $n$, где 1 - Джеймс Бонд предпочел смешанный напиток, 0 - взболтанный;\n",
        "* **гипотеза $H_0$** - Джеймс Бонд не различает 2 вида напитков и выбирает наугад;\n",
        "* **статистика $T$** - количество единиц в выборке.\n",
        "<br>Если нулевая гипотеза справедливая и Джеймс Бонд действительно выбирает наугад, то мы можем с одинаковой вероястностью получить любой из $ 2^n$ бинарных векторов длины $n$.<br>\n",
        "\n",
        "Мы могли бы перебрать все такие векторы,посчитать на каждом значение статистики T и получить таким образом ее нулевое распределение. Но в таком случае этот этап можно пропустить: мы имеем дело с выборкой, состоящей из 0 и 1, то есть из распределения Бернулли $Ber(p)$.Нулевая гипотеза выбора наугад соответсвуют значению $p=\\frac{1}{2}$,то есть, в каждом эксперименте вероятность выбора взболтанного мартини равна $\\frac{1}{2}$.Сумма $n$ одинаково распределенных бернуллиевских случайных величинс параметром **p** имеет биномиальное распределение $Bin(p,n)$.Следовательно распределение статистики $T\\sim Bin(n,\\frac{1}{2})$<br>Пусть $n=16$"
      ]
    },
    {
      "cell_type": "code",
      "execution_count": null,
      "metadata": {
        "id": "-vlmV6RupZxi"
      },
      "outputs": [],
      "source": [
        "import numpy as np\n",
        "from scipy import stats\n",
        "%pylab inline"
      ]
    },
    {
      "cell_type": "code",
      "execution_count": null,
      "metadata": {
        "id": "1OrANTInpZxk"
      },
      "outputs": [],
      "source": [
        "n = 16 #число экспериментов с Джеймс Бондом\n",
        "F_H0 = stats.binom(n, 0.5)\n",
        "x = np.linspace(0, 16, 17)\n",
        "pylab.bar(x, F_H0.pmf(x), align='center') #pmf - probabilyty mass function\n",
        "xlim(-0.5, 16.5)"
      ]
    },
    {
      "cell_type": "markdown",
      "metadata": {
        "id": "ScbaZ0-HpZxk"
      },
      "source": [
        "#### Односторонняя альтернатива\n",
        "**гипотеза $H_1$** - Джеймс Бонд предпочитает смешанный напиток.<br>\n",
        "При такой альтернативе более вероятны большие значения статистики,при расчёте достигаемого уровня значимости будем суммировать высоту столбиков в правом хвосте распределения\n",
        "<br>*предположим* , он верно ответил в 12 из 16 испытаний, тогда T статистика равнялась бы 12"
      ]
    },
    {
      "cell_type": "code",
      "execution_count": null,
      "metadata": {
        "id": "JOjDY0Y8pZxl"
      },
      "outputs": [],
      "source": [
        "pylab.bar(x, F_H0.pmf(x), align='center')\n",
        "pylab.bar(np.linspace(12, 16, 5), F_H0.pmf(np.linspace(12, 16, 5)), align='center', color='red')\n",
        "xlim(-0.5, 16.5)"
      ]
    },
    {
      "cell_type": "code",
      "execution_count": null,
      "metadata": {
        "id": "6f6qm4YcpZxm"
      },
      "outputs": [],
      "source": [
        "print('p-value:', stats.binom_test(12, 16, 0.5, alternative='greater'))"
      ]
    },
    {
      "cell_type": "markdown",
      "metadata": {
        "id": "wH485h7WpZxn"
      },
      "source": [
        "**Вывод:** 0.03 < 0.05,следовательно на уровне значимости 0.05, гипотезу о том, что Бонд не различает мартини, отвергаем.\n",
        "\n",
        "Предположим, он верно ответил в 11 из 16 испытаний:"
      ]
    },
    {
      "cell_type": "code",
      "execution_count": null,
      "metadata": {
        "id": "Xcf11k3vpZxn"
      },
      "outputs": [],
      "source": [
        "pylab.bar(x, F_H0.pmf(x), align='center')\n",
        "pylab.bar(np.linspace(11, 16, 6),F_H0.pmf(np.linspace(11, 16, 6)),align='center', color='red')\n",
        "xlim(-0.5, 16.5)\n",
        "print('p-value:', stats.binom_test(11, 16, 0.5, alternative='greater'))"
      ]
    },
    {
      "cell_type": "markdown",
      "metadata": {
        "id": "8ToiwAtxpZxo"
      },
      "source": [
        "В этом случае нулевая гипотеза не отвергается.\n",
        "### Двусторонняя альтернатива\n",
        "**гипотеза $H_1$** - Джеймс Бонд предпочитает какой-то определённый вид мартини.<br>\n",
        "При такой альтернативе более вероятны очень большие и очень маленькие значения статистики, при расчёте достигаемого уровня значимости будем суммировать высоту столбиков в левом и правом хвостах распределения."
      ]
    },
    {
      "cell_type": "code",
      "execution_count": null,
      "metadata": {
        "id": "nsqZYc1-pZxo"
      },
      "outputs": [],
      "source": [
        "# 12 из 16 испытаний\n",
        "\n",
        "pylab.bar(x, F_H0.pmf(x), align='center')\n",
        "pylab.bar(np.linspace(12,16,5), F_H0.pmf(np.linspace(12, 16, 5)), align='center', color='red')\n",
        "pylab.bar(np.linspace(0, 4, 5), F_H0.pmf(np.linspace(0, 4, 5)) ,align='center', color='red')\n",
        "xlim(-0.5, 16.5)\n",
        "print('n=12', ',p-value:', stats.binom_test(12, 16, 0.5, alternative='two-sided'))"
      ]
    },
    {
      "cell_type": "code",
      "execution_count": null,
      "metadata": {
        "id": "g-ZlVz9cpZxo"
      },
      "outputs": [],
      "source": [
        "# 13 из 16 испытаний\n",
        "\n",
        "pylab.bar(x,F_H0.pmf(x),align='center')\n",
        "pylab.bar(np.linspace(13, 16, 4),F_H0.pmf(np.linspace(13, 16, 4)), align='center', color='red')\n",
        "pylab.bar(np.linspace(0, 3, 4), F_H0.pmf(np.linspace(0, 3, 4)), align='center', color='red')\n",
        "xlim(-0.5, 16.5)\n",
        "print('n=13','p-value:', stats.binom_test(13, 16, 0.5, alternative='two-sided'))"
      ]
    },
    {
      "cell_type": "markdown",
      "metadata": {
        "id": "Poz9lsqCpZxp"
      },
      "source": [
        "### Критерий согласия Пирсона ( $\\chi^2$) \n",
        "Критерий проверки того, что наблюдаемая случайная величина подчиняется тому или иному теоретическому распределению  \n",
        "\n",
        "**Задача:** Исчерпанная рождаемость — количество детей, родившихся у женщины на момент окончания конвенционального репродуктивного возраста (45 лет). Для 1878 женщин старше 45, участвовавших в социологическом опросе жителей Швейцарии, известно количество детей. Этот признак — типичный счётчик, а, значит, его можно попробовать описать распределением Пуассона.  \n",
        "\n",
        "**Выборка:** целочисленный вектор длиы $n$, характеризующий количество детей у опрашиваемой женщины  \n",
        "\n",
        "**Гипотеза $H_0$:** рассматриваемая величина имеет распределение Пуассона"
      ]
    },
    {
      "cell_type": "code",
      "execution_count": null,
      "metadata": {
        "id": "mfkqzXXApZxp"
      },
      "outputs": [],
      "source": [
        "fin = open(r'fertility.txt', 'r')\n",
        "data = list(map(lambda x: int(x.strip()), fin.readlines()))\n",
        "data[:20]"
      ]
    },
    {
      "cell_type": "code",
      "execution_count": null,
      "metadata": {
        "id": "rHNcwuAopZxq"
      },
      "outputs": [],
      "source": [
        "pylab.bar(range(12), np.bincount(data), color = 'b', label = 'fertility_stat')\n",
        "pylab.legend();"
      ]
    },
    {
      "cell_type": "code",
      "execution_count": null,
      "metadata": {
        "id": "XbD1OGK6pZxq"
      },
      "outputs": [],
      "source": [
        "#оценим лямбду для распределения Пуассона (как выборочное среднее)\n",
        "l = np.mean(data)\n",
        "l"
      ]
    },
    {
      "cell_type": "markdown",
      "metadata": {
        "id": "BFs-wQy1pZxq"
      },
      "source": [
        "#### Критерий согласия Пирсона"
      ]
    },
    {
      "cell_type": "code",
      "execution_count": null,
      "metadata": {
        "id": "mSGhfexspZxr"
      },
      "outputs": [],
      "source": [
        "# наблюдаемые частоты\n",
        "observed_frequences = np.bincount(data)\n",
        "list(observed_frequences)"
      ]
    },
    {
      "cell_type": "code",
      "execution_count": null,
      "metadata": {
        "id": "0jcOcY5bpZxr"
      },
      "outputs": [],
      "source": [
        "# Ожидаемые частоты (если бы у данных было распределение Пуассона)\n",
        "expected_frequences = [len(data)*stats.poisson.pmf(x, l) for x in range(min(data), max(data) + 1)]\n",
        "expected_frequences"
      ]
    },
    {
      "cell_type": "code",
      "execution_count": null,
      "metadata": {
        "id": "kCOV_OSrpZxr"
      },
      "outputs": [],
      "source": [
        "pylab.bar(range(len(expected_frequences)), expected_frequences, color = 'b', label = 'poisson_distr')\n",
        "pylab.legend();"
      ]
    },
    {
      "cell_type": "markdown",
      "metadata": {
        "id": "XgHnMT3IpZxr"
      },
      "source": [
        "Статистика критерия хи-квадрат: $$\\chi^2=\\sum_{i=1}^K \\frac{\\left(n_i- np_i\\right)^2}{np_i}$$\n",
        "При справедливости нулевой гипотезы имеет распределение хи-квадрат с числом степеней свободы $K-1-m$, где $m$ - число параметров распределения, оцененных по выборке."
      ]
    },
    {
      "cell_type": "code",
      "execution_count": null,
      "metadata": {
        "id": "0I5RaoTwpZxr",
        "outputId": "6dcc89a9-b6cc-42af-cb6a-65120e72b119"
      },
      "outputs": [
        {
          "data": {
            "text/plain": [
              "Power_divergenceResult(statistic=431.5752205284916, pvalue=1.772613180233512e-86)"
            ]
          },
          "execution_count": 16,
          "metadata": {},
          "output_type": "execute_result"
        }
      ],
      "source": [
        "#ddof = 1 ,те одну единицу мы использовали при оценке лябмды\n",
        "stats.chisquare(observed_frequences, expected_frequences, ddof = 1)"
      ]
    },
    {
      "cell_type": "markdown",
      "metadata": {
        "id": "K6PTbvlspZxs"
      },
      "source": [
        "# Интервальные оценки с помощью квантилей\n",
        "\n",
        "#### Правило  двух сигм\n",
        "Если у нас есть нормально распределенная случайная величина, то 95% ее вероятностной массы приходится на интервал $[\\mu -2\\sigma,\\mu +2\\sigma]$\n",
        "$$X \\sim N(\\mu,\\theta^2)\\Rightarrow P(\\mu-2\\theta) \\leq X\\leq\\mu+2\\theta)\\approx0.95$$\n",
        "\n",
        "\n",
        "Во первых, эта оценка не точна,во вторых, хочется получить оценки не только для 95% интервала.<br>\n",
        "**Квантиль** порядка $a\\in(0,1)$ -такое число $X_a$,что:<br>$$P(X\\leq X_a)\\geq a$$ \n",
        "$$P(X\\geq X_a)\\geq 1-a$$\n",
        "\n",
        "\n",
        "#### Уточнение правила двух сигм\n",
        "$P(X_{0.0025}\\leq X\\leq X_{0.975})=0.95$ (по определению квантиля)<br>\n",
        "обобщаем:\n",
        "#### Предсказательный интервал\n",
        "$X\\sim F(x)\\Longrightarrow P(X_{\\frac{\\alpha}{2}}\\leq X\\leq X_{1-\\frac{\\alpha}{2}})=1-\\alpha$<br>\n",
        "$[X_{\\frac{\\alpha}{2}}, X_{1-\\frac{\\alpha}{2}}]$ - предсказательный интервал порядка 1-$\\alpha$ ($\\alpha$ -квантиль)\n",
        "\n",
        "##### для нормального распределения\n",
        "$X \\sim N(\\mu,\\theta^2)\\Longrightarrow P(\\mu-\\theta z_{1-\\frac{\\alpha}{2}} \\leq X\\leq\\mu+\\theta z_{1-\\frac{\\alpha}{2}})=1-\\alpha$<br>\n",
        "$z_\\alpha$- квантиль стандартного нормального распределения $N(0,1)$"
      ]
    },
    {
      "cell_type": "code",
      "execution_count": null,
      "metadata": {
        "id": "8W_OfHVrpZxs"
      },
      "outputs": [],
      "source": [
        "#расчёт z_a \n",
        "import scipy.stats\n",
        "scipy.stats.norm.ppf(0.975)"
      ]
    },
    {
      "cell_type": "markdown",
      "metadata": {
        "id": "3iPbrs59pZxs"
      },
      "source": [
        "$1.959963984540054 \\sim 2$ отсюда правило двух сигм\n",
        "### Точечные оценки\n",
        "\n",
        "Пусть у нас есть случайчая величина X, функция распределения которой зависит от параметра $\\theta$<br>\n",
        "$X ~F(x,\\theta),\\theta$ - неизвестный параметр ($\\theta=?$)\n",
        "\n",
        "\n",
        "Собираем выборку $X^n=(X_1,...,X_n)$<br>\n",
        "$\\hat\\theta$ - оценка $\\theta$ по выборке<br>\n",
        "Например, для $\\theta=\\mathbb{E}X:$<br>\n",
        " $\\hat\\theta=\\bar X_n=\\frac{1}{n} \\sum_{i=1}^n X_i$ \n",
        "\n",
        "### Доверительные интервалы\n",
        "Доверительный интервал для параметра $\\theta$ - пара таких статистик $C_L,C_U$,что <br>\n",
        "$P(C_L\\leq\\theta\\leq C_U)\\geq 1 - \\alpha$, $1 - \\alpha$ - уровень доверия\n",
        "\n",
        "**Как $C_L$ и $C_U$ (верхний и нижний доверительные пределы) оценивать по выборке?**\n",
        "\n",
        "Если $\\hat \\theta$ -оценка $\\theta$ и известно распределение $F_{\\hat \\theta(x)}$, то достаточно взять соответсвующие квантили<br>\n",
        "$P\\Bigg(F_{\\hat \\theta}^{-1}\\Big(\\frac{\\alpha}{2}\\Big)\\leq\\theta\\leq F_{\\hat \\theta}^{-1}\\Big(\\frac{1-\\alpha}{2}\\Big)\\Bigg)=1-\\alpha$<br>\n",
        "\n",
        "##### Для нормального распределения:\n",
        "$X \\sim N(\\mu,\\theta^2),X^n=(X_1,...,X_n)$  \n",
        "$\\bar{X_n}$- выборочное среднее(оценка мат.ожидания $\\mu$)  \n",
        "\n",
        "\n",
        "Предсказательный интервал для $X_n$  \n",
        "$\\bar{X_n}\\sim N\\Big(\\mu,\\frac{\\theta^2}{n}\\Big)\\Longrightarrow P\\Big(\\mu-\\frac{\\theta}{\\sqrt{n}} z_{1-\\frac{\\alpha}{2}} \\leq \\bar{X_n}\\leq\\mu+\\frac{\\theta}{\\sqrt{n}} z_{1-\\frac{\\alpha}{2}}\\Big)=1-\\alpha$\n",
        "\n",
        "\n",
        "Доверительный интервал для $\\mu :$  \n",
        "$P\\Big(\\bar{X_n}-\\frac{\\theta}{\\sqrt{n}} z_{1-\\frac{\\alpha}{2}} \\leq \\mu\\leq\\bar{X_n}+\\frac{\\theta}{\\sqrt{n}} z_{1-\\frac{\\alpha}{2}}\\Big)=1-\\alpha$\n",
        "\n",
        "**Резюме:**\n",
        "\n",
        "В предсказательном интервале границы не случайны, а случайно то, что между. В доверильном - все наооборот.\n",
        "\n",
        "Если мы хотим как то оценивать доверительный интервал по выборке,мы должны избавиться от $\\mu$ в его границах, и лучшее, что можно сделать, заменить его на выборочное среднее.\n",
        "Предсказательный интервал измеряет диапазон, в котором меняется случайная величина, а доверительный интервал для среднего показывает в каком диапазоне находится среднее.  \n",
        "\n",
        "##### Для любого распределения:\n",
        "$X \\sim F(x),X^n=(X_1,...,X_n)$<br>\n",
        "$\\bar{X_n}$- оценка $\\mathbb{E}X$<br>\n",
        "$\\bar{X_n}\\approx\\sim N\\Big (\\mathbb{E}X,\\frac{\\mathbb{D}X}{n}\\Big )$(ЦПТ)$\\Rightarrow$<br>\n",
        "Доверительный интервал для $\\mathbb{E}X$:\n",
        "$$P\\Big (\\bar{X_n} -z_{1-\\frac{\\alpha}{2}}\\sqrt{\\frac{\\mathbb{D}X}{n}}\\leq\\mathbb{E}X\\leq \\bar{X_n} +z_{1-\\frac{\\alpha}{2}}\\sqrt{\\frac{\\mathbb{D}X}{n}}\\Big )\\approx 1-\\alpha$$"
      ]
    },
    {
      "cell_type": "markdown",
      "metadata": {
        "id": "HSF52ABSpZxt"
      },
      "source": [
        "### Доверительные интервалы практика\n",
        "#### Постановка задачи:\n",
        "Имеются сгененированный случайно набор точек и 2 классификатора.<br>\n",
        "Необходимо их оценить."
      ]
    },
    {
      "cell_type": "code",
      "execution_count": null,
      "metadata": {
        "id": "TnxvUh45pZxt"
      },
      "outputs": [],
      "source": [
        "from sklearn import datasets, linear_model, metrics\n",
        "from sklearn.model_selection import train_test_split,cross_val_score\n",
        "import numpy as np\n",
        "%pylab inline"
      ]
    },
    {
      "cell_type": "code",
      "execution_count": null,
      "metadata": {
        "id": "qZDEM1MSpZxt"
      },
      "outputs": [],
      "source": [
        "#генерация данных\n",
        "blobs = datasets.make_blobs(300, centers = 2, cluster_std = 6, random_state=1)\n",
        "pylab.figure(figsize(4, 4))\n",
        "pylab.scatter(list(map(lambda x: x[0], blobs[0])), list(map(lambda x: x[1], blobs[0])), c = blobs[1], cmap = 'autumn',\n",
        "             s=100);"
      ]
    },
    {
      "cell_type": "code",
      "execution_count": null,
      "metadata": {
        "id": "FBYBVVoYpZxt"
      },
      "outputs": [],
      "source": [
        "#разбиваем данные на обучение и тест\n",
        "train_data, test_data, train_labels, test_labels = train_test_split(blobs[0], blobs[1], \n",
        "                                                                                    test_size = 15,\n",
        "                                                                                    random_state = 1)"
      ]
    },
    {
      "cell_type": "markdown",
      "metadata": {
        "id": "-7fnTmLxpZxt"
      },
      "source": [
        "#### Точечная оценка"
      ]
    },
    {
      "cell_type": "code",
      "execution_count": null,
      "metadata": {
        "id": "f6bIqoD-pZxt"
      },
      "outputs": [],
      "source": [
        "ridge_model = linear_model.RidgeClassifier()\n",
        "ridge_model.fit(train_data, train_labels)\n",
        "metrics.roc_auc_score(test_labels, ridge_model.predict(test_data))"
      ]
    },
    {
      "cell_type": "code",
      "execution_count": null,
      "metadata": {
        "id": "Scw590N2pZxt"
      },
      "outputs": [],
      "source": [
        "sgd_model = linear_model.SGDClassifier(random_state = 0)\n",
        "sgd_model.fit(train_data, train_labels)\n",
        "metrics.roc_auc_score(test_labels, sgd_model.predict(test_data))"
      ]
    },
    {
      "cell_type": "markdown",
      "metadata": {
        "id": "mQ9zsyPApZxu"
      },
      "source": [
        "Видим,оценки совпадают.<br> Попробуем оценку уточнить\n",
        "#### Оценка среднего\n",
        "###### Точечная оценка среднего"
      ]
    },
    {
      "cell_type": "code",
      "execution_count": null,
      "metadata": {
        "id": "PH145qozpZxu"
      },
      "outputs": [],
      "source": [
        "sgd_auc_scores = cross_val_score(linear_model.SGDClassifier(), \n",
        "                                 blobs[0], blobs[1], scoring = 'roc_auc',  \n",
        "                                 cv = 20)\n",
        "ridge_auc_scores = cross_val_score(linear_model.RidgeClassifier(), \n",
        "                                 blobs[0], blobs[1], scoring = 'roc_auc',  \n",
        "                                 cv = 20) \n",
        "print(\"sgd model auc: mean %.3f, std %.3f\" % (sgd_auc_scores.mean(), sgd_auc_scores.std(ddof=1)))\n",
        "print(\"ridge model auc: mean %.3f, std %.3f\" % (ridge_auc_scores.mean(), ridge_auc_scores.std(ddof=1)))"
      ]
    },
    {
      "cell_type": "markdown",
      "metadata": {
        "id": "xB1uhfVWpZxu"
      },
      "source": [
        "Видим, что оценки не одинаковы и модели работают по разному.Мы получили точечную оценку среднего и давайте посмотрим, в каких диапазонах она может изменяться.\n",
        "#### Интервальная оценка среднего\n",
        "Рассмотрим два метода:\n",
        "##### z -интервал"
      ]
    },
    {
      "cell_type": "code",
      "execution_count": null,
      "metadata": {
        "collapsed": true,
        "id": "aQwMnrafpZxu"
      },
      "outputs": [],
      "source": [
        "from statsmodels.stats.weightstats import _zconfint_generic, _tconfint_generic"
      ]
    },
    {
      "cell_type": "markdown",
      "metadata": {
        "id": "ifAG0_5FpZxu"
      },
      "source": [
        "Для построения z интевала нужно знать оценку дисперсии.<br>\n",
        "Допустим, нам откуда-то известно, что дисперсия auc_scores $\\sigma^2=0.25$. <br>Построим доверительные интервалы для средних вида $$\\bar{X}_n \\pm z_{1-\\frac{\\alpha}{2}} \\frac{\\sigma}{\\sqrt{n}}$$"
      ]
    },
    {
      "cell_type": "code",
      "execution_count": null,
      "metadata": {
        "id": "7KJ3QkmZpZxu"
      },
      "outputs": [],
      "source": [
        "sgd_mean = sgd_auc_scores.mean()\n",
        "ridge_mean = ridge_auc_scores.mean()\n",
        "print (\"sgd model mean auc 95%% confidence interval\", _zconfint_generic(sgd_mean, \n",
        "                                                                  sqrt(0.25/len(sgd_auc_scores)), \n",
        "                                                                  0.05, 'two-sided'))\n",
        "\n",
        "print (\"ridge model mean auc 95%% confidence interval\", _zconfint_generic(ridge_mean, \n",
        "                                                                    sqrt(0.25/len(sgd_auc_scores)), \n",
        "                                                                    0.05, 'two-sided'))"
      ]
    },
    {
      "cell_type": "markdown",
      "metadata": {
        "id": "iTp_d5AcpZxu"
      },
      "source": [
        "#### t-интервал\n",
        "Вместо гипотетической теоретической дисперсии $\\sigma^2$, которую мы на самом деле в данном случае не знаем, используем выборочные дисперсии, и построим доверительные интервалы вида $$\\bar{X}_n \\pm t_{1-\\frac{\\alpha}{2}} \\frac{S}{\\sqrt{n}}$$"
      ]
    },
    {
      "cell_type": "code",
      "execution_count": null,
      "metadata": {
        "id": "q_YGQjXZpZxu"
      },
      "outputs": [],
      "source": [
        "# расчитываем выборочную дисперсию\n",
        "sgd_mean_std = sgd_auc_scores.std(ddof=1)/sqrt(len(sgd_auc_scores))\n",
        "ridge_mean_std = ridge_auc_scores.std(ddof=1)/sqrt(len(ridge_auc_scores))\n",
        "\n",
        "#len(sgd_auc_scores) - 1 - число степеней свободы, -1 тк одну уже использовали для вычисления дисперсии\n",
        "print (\"sgd model mean auc 95%% confidence interval\", _tconfint_generic(sgd_mean, sgd_mean_std,\n",
        "                                                                       len(sgd_auc_scores) - 1,\n",
        "                                                                       0.05, 'two-sided')\n",
        ")\n",
        "print (\"ridge model mean auc 95%% confidence interval\", _tconfint_generic(ridge_mean, ridge_mean_std,\n",
        "                                                                         len(sgd_auc_scores) - 1,\n",
        "                                                                         0.05, 'two-sided'))"
      ]
    },
    {
      "cell_type": "markdown",
      "metadata": {
        "id": "izS71yiEpZxv"
      },
      "source": [
        "видим, что интревалы получились уже, и ridge model немнго лучше"
      ]
    },
    {
      "cell_type": "code",
      "execution_count": null,
      "metadata": {
        "id": "QL0IcvwGpZxv"
      },
      "outputs": [],
      "source": [
        ""
      ]
    }
  ],
  "metadata": {
    "kernelspec": {
      "display_name": "Python 3",
      "language": "python",
      "name": "python3"
    },
    "language_info": {
      "codemirror_mode": {
        "name": "ipython",
        "version": 3
      },
      "file_extension": ".py",
      "mimetype": "text/x-python",
      "name": "python",
      "nbconvert_exporter": "python",
      "pygments_lexer": "ipython3",
      "version": "3.7.7"
    },
    "colab": {
      "name": "Семинар-7.ipynb",
      "provenance": [],
      "collapsed_sections": [],
      "include_colab_link": true
    }
  },
  "nbformat": 4,
  "nbformat_minor": 0
}