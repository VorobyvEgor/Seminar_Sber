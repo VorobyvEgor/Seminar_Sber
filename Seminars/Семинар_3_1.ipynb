{
  "nbformat": 4,
  "nbformat_minor": 0,
  "metadata": {
    "colab": {
      "name": "Семинар-3.1-clear.ipynb",
      "provenance": [],
      "collapsed_sections": [],
      "include_colab_link": true
    },
    "kernelspec": {
      "name": "python3",
      "display_name": "Python 3"
    }
  },
  "cells": [
    {
      "cell_type": "markdown",
      "metadata": {
        "id": "view-in-github",
        "colab_type": "text"
      },
      "source": [
        "<a href=\"https://colab.research.google.com/github/VorobyvEgor/Seminar_Sber/blob/main/Seminars/%D0%A1%D0%B5%D0%BC%D0%B8%D0%BD%D0%B0%D1%80_3_1.ipynb\" target=\"_parent\"><img src=\"https://colab.research.google.com/assets/colab-badge.svg\" alt=\"Open In Colab\"/></a>"
      ]
    },
    {
      "cell_type": "markdown",
      "metadata": {
        "id": "8EUtIzq2UsQF"
      },
      "source": [
        "# Семинар 3.1: Углубленное знакомство с библиотекой pandas и первичный анализ данных.\n",
        "\n",
        "\n",
        "*   [Полный User Guide по библиотеке pandas](https://pandas.pydata.org/docs/user_guide/index.html)\n",
        "*   [Куча полезных рецептов и хороших практик](https://pandas.pydata.org/docs/user_guide/cookbook.html)\n"
      ]
    },
    {
      "cell_type": "code",
      "metadata": {
        "id": "R55aBpI3WWuO"
      },
      "source": [
        "import pandas as pd\n",
        "import numpy as np"
      ],
      "execution_count": null,
      "outputs": []
    },
    {
      "cell_type": "markdown",
      "metadata": {
        "id": "kaLiHTqdztLi"
      },
      "source": [
        "## Pandas\n",
        "В pandas существует два основных объекта: pandas Series и pandas DataFrame. Первая это по сути асбтракция над одномерным массивом данных с дополнительными метаданными, а вторая абстракция это по сути \"таблица\", состоящая из наборов pandas Series."
      ]
    },
    {
      "cell_type": "markdown",
      "metadata": {
        "id": "1DnX1-Pl0vs2"
      },
      "source": [
        "### Создание объектов\n"
      ]
    },
    {
      "cell_type": "markdown",
      "source": [
        "#### pd.Series\n",
        "\n",
        "Начнем с pd.Series. Также, как и для numpy массива мы можем задать тип данных. Доступны все те же типы данных, что и в numpy + есть возможность конвертировать одни типы данных в другие с помощью astype + можно указывать [свои функции](https://pbpython.com/pandas_dtypes.html) для преобразования."
      ],
      "metadata": {
        "id": "7wLg6h2l-Ekj"
      }
    },
    {
      "cell_type": "code",
      "metadata": {
        "id": "TCGX06S_zwT8"
      },
      "source": [
        "s = pd.Series([1,2,3], dtype=np.int32, name='numbers') # pd.Series\n",
        "s"
      ],
      "execution_count": null,
      "outputs": []
    },
    {
      "cell_type": "code",
      "source": [
        "# Здесь создадим еще парочку объектов\n",
        "\n",
        "..."
      ],
      "metadata": {
        "id": "GOhf6CFv4fAO"
      },
      "execution_count": null,
      "outputs": []
    },
    {
      "cell_type": "markdown",
      "metadata": {
        "id": "vd26SdIKAwdC"
      },
      "source": [
        "Обратите внимание на колонку слева, это индекс, и если не указано обратное, он создается автоматически. Индексы мы будем встречать как для pd.Series, так и для pd.DataFrame. Что же он дает? Аналогия здесь такая же, что с телефонным справочником. Индексы позволяют более логично категоризовать информацию, а также более оптимально делать некоторые операции над сериями (pd.Series) и датафреймами (pd.DataFrame). Вкратце, можно отметить, что индексы\n",
        "1. Идентифицируют данные (т.е. предоставляют метаданные) с помощью известных индикаторов, важных для анализа, визуализации и отображения в интерактивной консоли\n",
        "2. Включают автоматическое и явное выравнивание данных.\n",
        "3. Позволяют интуитивно получать и настраивать подмножества набора данных.\n",
        "\n",
        "Помимо этого обратите внимание, что у серии также есть имя. Это полезно, когда нам нужно вставить новую колонку в DataFrame без явного указания имени."
      ]
    },
    {
      "cell_type": "markdown",
      "metadata": {
        "id": "RMaHXb46CKu8"
      },
      "source": [
        "Следующим образом мы можем задать произвольный индекс, теперь наши записи идентифицируют буквы a b c"
      ]
    },
    {
      "cell_type": "code",
      "metadata": {
        "id": "cS8PQ0-vqw0J"
      },
      "source": [
        "# Следующим образом мы можем задать произвольный индекс\n",
        "# Например сделаем так, чтобы наши записи идентифицируют буквы a b c\n",
        "\n",
        "s = pd.Series([1,2,3], dtype=np.int32, name='numbers', index=['a', 'b', 'c'])\n",
        "s"
      ],
      "execution_count": null,
      "outputs": []
    },
    {
      "cell_type": "code",
      "source": [
        "# Здесь попробуем также другие индексы\n",
        "\n",
        "..."
      ],
      "metadata": {
        "id": "2wvnsk6F88Cb"
      },
      "execution_count": null,
      "outputs": []
    },
    {
      "cell_type": "markdown",
      "metadata": {
        "id": "udY5lsXvCQyI"
      },
      "source": [
        "Помимо индекса (свойства s.index) также сохраняется сквозняется целочисленная индексация.\n",
        "\n",
        "Ниже выборка просто по целочисленному индексу (сквозному), как будто мы работаем с обычным списком"
      ]
    },
    {
      "cell_type": "code",
      "source": [
        "# Вызовим метод .index\n",
        "print(...)\n",
        "\n",
        "# Обратимся по буквенному индексу\n",
        "print(...)\n",
        "\n",
        "# Обратимся по нумерному индексу\n",
        "print(...)"
      ],
      "metadata": {
        "id": "kLoYAL2SMVDn"
      },
      "execution_count": null,
      "outputs": []
    },
    {
      "cell_type": "code",
      "metadata": {
        "id": "6BMfLeMsq4od"
      },
      "source": [
        "# Метод доступа .loc позволяет делать выборку именно по индексу.\n",
        "# Обратите внимание, что здесь используются именно квадратные скобки. \n",
        "# Скорее всего так сделано, чтобы такая выборка была похоже на выборку из обычного списка.\n",
        "\n",
        "print(...)"
      ],
      "execution_count": null,
      "outputs": []
    },
    {
      "cell_type": "markdown",
      "metadata": {
        "id": "woXCD0XsC4xL"
      },
      "source": [
        "#### pd.DataFrame\n",
        "\n",
        "Создадим pandas DataFrame из случайной numpy матрицы"
      ]
    },
    {
      "cell_type": "code",
      "source": [
        "m = np.random.rand(10,3)\n",
        "m"
      ],
      "metadata": {
        "id": "w0kI7_EPMy6Q"
      },
      "execution_count": null,
      "outputs": []
    },
    {
      "cell_type": "code",
      "metadata": {
        "id": "ZjKBR3_z0PuA"
      },
      "source": [
        "df = pd.DataFrame(m)\n",
        "df"
      ],
      "execution_count": null,
      "outputs": []
    },
    {
      "cell_type": "markdown",
      "metadata": {
        "id": "pTlU4s4tDA60"
      },
      "source": [
        "Мы видим строковый индекс, который был создан автоматически, а также колоночный (или просто колонки), которые также были заданы автоматически. У нас получился не совсем привычный вид таблицы, давайте зададим колонкам более понятные имена."
      ]
    },
    {
      "cell_type": "code",
      "metadata": {
        "id": "h9Rn1N7crUOT"
      },
      "source": [
        "df = pd.DataFrame(data=m, columns=['first', 'second', 'third'],)\n",
        "df"
      ],
      "execution_count": null,
      "outputs": []
    },
    {
      "cell_type": "code",
      "metadata": {
        "id": "NRfLjBg_rg97"
      },
      "source": [
        "# В pandas DataFrame выборка квадратными скобками происходит по колонкам\n",
        "\n",
        "..."
      ],
      "execution_count": null,
      "outputs": []
    },
    {
      "cell_type": "code",
      "source": [
        "# Посмотрим какой тип имеет колонка DataFrame\n",
        "\n",
        "print(type(...))"
      ],
      "metadata": {
        "id": "IxtLZiH7NOAw"
      },
      "execution_count": null,
      "outputs": []
    },
    {
      "cell_type": "code",
      "metadata": {
        "id": "0GMj3LOcrk_V"
      },
      "source": [
        "# Попытаемся обратиться к колонке по номеру\n",
        "\n",
        "df[0]"
      ],
      "execution_count": null,
      "outputs": []
    },
    {
      "cell_type": "markdown",
      "metadata": {
        "id": "Be_yxUE_DeFa"
      },
      "source": [
        "Но ВНЕЗАПНО, если мы попробуем применить слайсинг как в обычных массивах numpy или списках, выборка будет происходить по строкам. Эта та особенность, которую мы вынуждены просто запомнить. Выборка при этом происходит по целочисленной сквозной индексации (0,1,2,3,4,...)."
      ]
    },
    {
      "cell_type": "code",
      "metadata": {
        "id": "_rpKN07zDkVb"
      },
      "source": [
        "df['first'][:3]"
      ],
      "execution_count": null,
      "outputs": []
    },
    {
      "cell_type": "code",
      "source": [
        "df[:2]"
      ],
      "metadata": {
        "id": "QAFEh_8vOI-l"
      },
      "execution_count": null,
      "outputs": []
    },
    {
      "cell_type": "markdown",
      "source": [
        "#### Полезные методы DataFrame для получения представления о том, какие данные находятся в нем"
      ],
      "metadata": {
        "id": "eOx-0_G7TRwP"
      }
    },
    {
      "cell_type": "code",
      "metadata": {
        "id": "g4lkFcb5pMLu"
      },
      "source": [
        "# .head()\n",
        "\n",
        "..."
      ],
      "execution_count": null,
      "outputs": []
    },
    {
      "cell_type": "code",
      "source": [
        "# .tail()\n",
        "\n",
        "..."
      ],
      "metadata": {
        "id": "ZKuxn53BTy2y"
      },
      "execution_count": null,
      "outputs": []
    },
    {
      "cell_type": "code",
      "metadata": {
        "id": "yW7MRkjupS1c"
      },
      "source": [
        "# .info()\n",
        "\n",
        "...\n",
        "\n",
        "# В методе info мы можем сразу проверить наличие пропусков (графа Non-Null Count),\n",
        "# а также посмотреть какой объем памяти занимает наша табличка (чем меньше, тем, конечно, лучше)."
      ],
      "execution_count": null,
      "outputs": []
    },
    {
      "cell_type": "code",
      "source": [
        "# .sample()\n",
        "\n",
        "..."
      ],
      "metadata": {
        "id": "ejMQJMQETecs"
      },
      "execution_count": null,
      "outputs": []
    },
    {
      "cell_type": "code",
      "source": [
        "# .describe()\n",
        "\n",
        "...\n",
        "\n",
        "# Метод .describe() выводит нам дескриптивную статистику по нашему датафрейму."
      ],
      "metadata": {
        "id": "EvwC4Yr_Vhy3"
      },
      "execution_count": null,
      "outputs": []
    },
    {
      "cell_type": "markdown",
      "metadata": {
        "id": "iyxFSGgcD3SB"
      },
      "source": [
        "NOTE: Есть удобный способ инициализировать новый DataFrame с помощью словаря. Ключи станут названиями колонок, а значения по ключам столбцами."
      ]
    },
    {
      "cell_type": "code",
      "metadata": {
        "id": "p1duiphz0SMM"
      },
      "source": [
        "# pd.DataFrame через словарь\n",
        "d = {\n",
        "    'Name': [...],\n",
        "    'Age': [...]\n",
        "}\n",
        "\n",
        "pd.DataFrame(d, index=[...])"
      ],
      "execution_count": null,
      "outputs": []
    },
    {
      "cell_type": "markdown",
      "metadata": {
        "id": "1ZueyWQU00ZB"
      },
      "source": [
        "### Просмотр мета-информации"
      ]
    },
    {
      "cell_type": "code",
      "metadata": {
        "id": "lTn7h2TYsk3E"
      },
      "source": [
        "# Узнать какие индексы находтся в нашем DataFrame\n",
        "\n",
        "df.index"
      ],
      "execution_count": null,
      "outputs": []
    },
    {
      "cell_type": "code",
      "metadata": {
        "id": "UaSa2VZ2syh6"
      },
      "source": [
        "# Узнать какие столбцы находтся в нашем DataFrame\n",
        "\n",
        "f.columns"
      ],
      "execution_count": null,
      "outputs": []
    },
    {
      "cell_type": "code",
      "source": [
        "# Узнать форму нашей таблицы\n",
        "\n",
        "df.shape"
      ],
      "metadata": {
        "id": "w76z3kEjUphE"
      },
      "execution_count": null,
      "outputs": []
    },
    {
      "cell_type": "code",
      "metadata": {
        "id": "cZ4bu0lLtEQD"
      },
      "source": [
        "# Посмотреть типы данных\n",
        "\n",
        "df.dtypes"
      ],
      "execution_count": null,
      "outputs": []
    },
    {
      "cell_type": "markdown",
      "metadata": {
        "id": "kNWpC3DBE7-U"
      },
      "source": [
        "Мы можем менять типы с помощью метода astype. Обратите внимание, что мы можем передать целый словарь в котором ключи это названия колонок, а значения по ключу это тип данных к которому мы хотим преобразовать соответствующую колонку."
      ]
    },
    {
      "cell_type": "code",
      "metadata": {
        "id": "Ny318BXltPLu"
      },
      "source": [
        "df.astype({'first': np.float32}).dtypes"
      ],
      "execution_count": null,
      "outputs": []
    },
    {
      "cell_type": "markdown",
      "metadata": {
        "id": "PBeBiBWBFGBB"
      },
      "source": [
        "Мы можем отказаться от всех метаданных и перейти к numpy матрице, чтобы работать с ней с помощью методов из библиотеки numpy"
      ]
    },
    {
      "cell_type": "code",
      "metadata": {
        "id": "dPOqBT7otZRa"
      },
      "source": [
        "df.to_numpy()"
      ],
      "execution_count": null,
      "outputs": []
    },
    {
      "cell_type": "markdown",
      "source": [
        "#### Оси и индексы DataFrame"
      ],
      "metadata": {
        "id": "t3LVFt3sV9c7"
      }
    },
    {
      "cell_type": "markdown",
      "metadata": {
        "id": "xAI0PgvlFkZL"
      },
      "source": [
        "По большому счету колонки это тот же индекс, только по горизонтальной оси (axis = 1). Строковый и столбцовый индексы могут заменять друг друга, давайте продемонстрируем это с помощью операции транспонирования.\n",
        "\n",
        "Кстати, ниже напоминание об осях из прошлой лекции.\n",
        "\n",
        "![axes](https://railsware.com/blog/wp-content/uploads/2018/11/data-frame-axes.png)\n",
        "\n",
        "![axes](https://i.stack.imgur.com/FzimB.png)"
      ]
    },
    {
      "cell_type": "code",
      "source": [
        "# Для удобства перезапишем в df первые 10 строчек df\n",
        "\n",
        "..."
      ],
      "metadata": {
        "id": "_f0RPpry2_Hz"
      },
      "execution_count": null,
      "outputs": []
    },
    {
      "cell_type": "code",
      "metadata": {
        "id": "NIDozFl-uA0y"
      },
      "source": [
        "# Транспонируем наш DataFrame\n",
        "\n",
        "..."
      ],
      "execution_count": null,
      "outputs": []
    },
    {
      "cell_type": "markdown",
      "metadata": {
        "id": "fmJ6SQviHYic"
      },
      "source": [
        "Мы можем сортировать строки таблицы по значениям колонок. Обратите внимание, что индекс остался прежним."
      ]
    },
    {
      "cell_type": "code",
      "metadata": {
        "id": "ynya_5iGuM1b"
      },
      "source": [
        "# .sort_values() для сортировки\n",
        "\n",
        "..."
      ],
      "execution_count": null,
      "outputs": []
    },
    {
      "cell_type": "code",
      "source": [
        "# .sort_values() для сортировки по нескольким ключам\n",
        "\n",
        "..."
      ],
      "metadata": {
        "id": "9SvLd3fVTLNC"
      },
      "execution_count": null,
      "outputs": []
    },
    {
      "cell_type": "markdown",
      "metadata": {
        "id": "ORXHQ2MGHfxL"
      },
      "source": [
        "А можем сортировать именно индекс."
      ]
    },
    {
      "cell_type": "code",
      "metadata": {
        "id": "kc98lOOrtgcm"
      },
      "source": [
        "df_T = df.T"
      ],
      "execution_count": null,
      "outputs": []
    },
    {
      "cell_type": "code",
      "source": [
        "df_T"
      ],
      "metadata": {
        "id": "11Q_tNsKTmY8"
      },
      "execution_count": null,
      "outputs": []
    },
    {
      "cell_type": "code",
      "metadata": {
        "id": "AD4rjllZtjuf"
      },
      "source": [
        "df_T.sort_index(axis=0)"
      ],
      "execution_count": null,
      "outputs": []
    },
    {
      "cell_type": "code",
      "metadata": {
        "id": "wQXmgpCWu8Xa"
      },
      "source": [
        "df.T.sort_index(axis=1, ascending=False)"
      ],
      "execution_count": null,
      "outputs": []
    },
    {
      "cell_type": "markdown",
      "source": [
        "##### Использования колонки в качестве индекса"
      ],
      "metadata": {
        "id": "MIDsQWVUWxYI"
      }
    },
    {
      "cell_type": "code",
      "source": [
        "df1 = pd.DataFrame({\n",
        "    'date' : ['2020-01-01', '2020-02-01', '2020-03-01'],\n",
        "    'usd' : [1, 2, 3],\n",
        "    'rur' : [4, 8, 12]\n",
        "})\n",
        "\n",
        "df1"
      ],
      "metadata": {
        "id": "Li0NM-JVUTIY"
      },
      "execution_count": null,
      "outputs": []
    },
    {
      "cell_type": "code",
      "source": [
        "df1 = df1.astype({'date':np.datetime64})"
      ],
      "metadata": {
        "id": "65z_Nfo2U255"
      },
      "execution_count": null,
      "outputs": []
    },
    {
      "cell_type": "code",
      "source": [
        "df1"
      ],
      "metadata": {
        "id": "WWFGDY4RU2tF"
      },
      "execution_count": null,
      "outputs": []
    },
    {
      "cell_type": "code",
      "source": [
        "df1.dtypes"
      ],
      "metadata": {
        "id": "IsmQNpN0VHDf"
      },
      "execution_count": null,
      "outputs": []
    },
    {
      "cell_type": "code",
      "source": [
        "df1.set_index('date', inplace=True)"
      ],
      "metadata": {
        "id": "d31VnMJoUqia"
      },
      "execution_count": null,
      "outputs": []
    },
    {
      "cell_type": "code",
      "source": [
        "df1"
      ],
      "metadata": {
        "id": "4lEMIdoCUx6P"
      },
      "execution_count": null,
      "outputs": []
    },
    {
      "cell_type": "markdown",
      "metadata": {
        "id": "MB4UNRfE49CZ"
      },
      "source": [
        "### Выборка\n",
        "Подробная информация по выборкам данных представлена [тут](https://pandas.pydata.org/pandas-docs/stable/user_guide/indexing.html)."
      ]
    },
    {
      "cell_type": "markdown",
      "metadata": {
        "id": "j1x63vr54_aw"
      },
      "source": [
        "#### Квадратные скобки\n",
        "Как уже отмечалось выше, для датафреймов выборка происходит по столбцам."
      ]
    },
    {
      "cell_type": "code",
      "metadata": {
        "id": "2VhHjuFByjOF"
      },
      "source": [
        "df['third']"
      ],
      "execution_count": null,
      "outputs": []
    },
    {
      "cell_type": "code",
      "metadata": {
        "id": "wQzItO1eypMF"
      },
      "source": [
        "df[['third', 'first']]"
      ],
      "execution_count": null,
      "outputs": []
    },
    {
      "cell_type": "code",
      "metadata": {
        "id": "rrlZBE5azNG8"
      },
      "source": [
        "df[1:4] # слайсинг по сквозному целочисленному индексу как в массиве"
      ],
      "execution_count": null,
      "outputs": []
    },
    {
      "cell_type": "markdown",
      "metadata": {
        "id": "LIJvcCTi5SCg"
      },
      "source": [
        "#### Выборка по метке (лейблу)\n",
        "Добавим новый столбец в нашу таблицу и сделаем его новым индексом с помощью метода .set_index()"
      ]
    },
    {
      "cell_type": "code",
      "metadata": {
        "id": "VsofKRSUuduZ"
      },
      "source": [
        "df = pd.DataFrame(np.random.rand(5, 3))\n",
        "df"
      ],
      "execution_count": null,
      "outputs": []
    },
    {
      "cell_type": "code",
      "metadata": {
        "id": "j6W0dJnzzyt2"
      },
      "source": [
        "df['new_index'] = pd.Series(['a', 'b', 'e', 'c', 'g'])\n",
        "df"
      ],
      "execution_count": null,
      "outputs": []
    },
    {
      "cell_type": "code",
      "source": [
        "# Кроме того, в столбцах могут храниться и более сложные типы, например списки\n",
        "\n",
        "# df['test_col'] = [[round(np.random.rand(), 3) for i in range(3)] for i in range(df.shape[0])]\n",
        "# df"
      ],
      "metadata": {
        "id": "0gFWmtDgYRw9"
      },
      "execution_count": null,
      "outputs": []
    },
    {
      "cell_type": "code",
      "metadata": {
        "id": "OI7uYkve0Gkc"
      },
      "source": [
        "df = df.set_index('new_index')\n",
        "df"
      ],
      "execution_count": null,
      "outputs": []
    },
    {
      "cell_type": "markdown",
      "metadata": {
        "id": "OzMG0Wx7IViM"
      },
      "source": [
        "Теперь с помощью .loc мы можем производить навигацию по этому индексу"
      ]
    },
    {
      "cell_type": "code",
      "metadata": {
        "id": "mdMpcfcl5UzY"
      },
      "source": [
        "df.loc['b']"
      ],
      "execution_count": null,
      "outputs": []
    },
    {
      "cell_type": "markdown",
      "metadata": {
        "id": "3354fhCRIZp4"
      },
      "source": [
        "И даже использовать диапазоны (слайсы) по индексу"
      ]
    },
    {
      "cell_type": "code",
      "metadata": {
        "id": "8OxLHGNS0Vd4"
      },
      "source": [
        "df.loc['b':'c']"
      ],
      "execution_count": null,
      "outputs": []
    },
    {
      "cell_type": "markdown",
      "metadata": {
        "id": "kUAXng_wIifP"
      },
      "source": [
        "Через запятую мы можем указать также и фильтр по столбцам"
      ]
    },
    {
      "cell_type": "code",
      "metadata": {
        "id": "zoeFnuxPvmOm"
      },
      "source": [
        "df"
      ],
      "execution_count": null,
      "outputs": []
    },
    {
      "cell_type": "code",
      "metadata": {
        "id": "JXquHvKuvqBx"
      },
      "source": [
        "df.columns = ['first', 'second', 'third']"
      ],
      "execution_count": null,
      "outputs": []
    },
    {
      "cell_type": "code",
      "source": [
        "df[['first', 'second']]"
      ],
      "metadata": {
        "id": "tI0KeQj8ZZ03"
      },
      "execution_count": null,
      "outputs": []
    },
    {
      "cell_type": "code",
      "metadata": {
        "id": "KIZSw0gX0cMM"
      },
      "source": [
        "# Кроме того, мы можем комбинировать\n",
        "\n",
        "df.loc[:'e', ['second', 'third']]"
      ],
      "execution_count": null,
      "outputs": []
    },
    {
      "cell_type": "code",
      "source": [
        "# Место для ответов на вопросы\n",
        "\n",
        "..."
      ],
      "metadata": {
        "id": "x5saTh0MXiBu"
      },
      "execution_count": null,
      "outputs": []
    },
    {
      "cell_type": "markdown",
      "metadata": {
        "id": "Gc5paBlN5mgH"
      },
      "source": [
        "#### Выборка по позиции в таблице\n",
        "Сохраняется сквозная целочисленная индексация, и она доступна с помощью метода .iloc. Скобки также квадратные"
      ]
    },
    {
      "cell_type": "code",
      "metadata": {
        "id": "JzKy8t8_0vtU"
      },
      "source": [
        "df"
      ],
      "execution_count": null,
      "outputs": []
    },
    {
      "cell_type": "code",
      "metadata": {
        "id": "yTkwZEVwwGjc"
      },
      "source": [
        "# Попытаемся использовать loc() для выбора строк по нумерации\n",
        "\n",
        "df.loc[1:3]"
      ],
      "execution_count": null,
      "outputs": []
    },
    {
      "cell_type": "code",
      "metadata": {
        "id": "6uYkwBNm5qHs"
      },
      "source": [
        "df.iloc[1:3]"
      ],
      "execution_count": null,
      "outputs": []
    },
    {
      "cell_type": "markdown",
      "metadata": {
        "id": "wkfS5DL2IutC"
      },
      "source": [
        "Происходит выборка именно по **номеру** строки и **номеру** столбца (начиная с нуля)"
      ]
    },
    {
      "cell_type": "code",
      "metadata": {
        "id": "7r6_Rm-S1Asl"
      },
      "source": [
        "df.iloc[1:3, [0, 2]]"
      ],
      "execution_count": null,
      "outputs": []
    },
    {
      "cell_type": "markdown",
      "metadata": {
        "id": "vrTxOj8TJO76"
      },
      "source": [
        "### Чтение и запись данных\n",
        "\n",
        "В pandas присутствует огромное кол-во возможностей для чтения записи данных.\n",
        "\n",
        "Например, в методе pd.read_csv доступны специфичные опции для формата (например, разделитель колонок sep), но и также можно, например, дополнить список значений, которые pandas по умолчанию считает пропусками, задав явно параметр na_values.\n",
        "\n",
        "Более подробную информацию про чтение запись данных можно найти [здесь](https://pandas.pydata.org/pandas-docs/stable/user_guide/io.html)"
      ]
    },
    {
      "cell_type": "markdown",
      "source": [
        "Далее мы будем использовать данные iris.csv ([скачать](https://drive.google.com/file/d/1fjyopp9FZ-g6KIsIE8vPX2r62A43h2XI/view?usp=sharing))\n"
      ],
      "metadata": {
        "id": "luPEg92M36Et"
      }
    },
    {
      "cell_type": "code",
      "source": [
        "!wget https://www.dropbox.com/s/pb6lb2s6fe15wri/iris.csv"
      ],
      "metadata": {
        "id": "7tEBkfQNe2d4"
      },
      "execution_count": null,
      "outputs": []
    },
    {
      "cell_type": "code",
      "metadata": {
        "id": "XIepSPt5wuA9"
      },
      "source": [
        "iris = pd.read_csv('iris.csv')"
      ],
      "execution_count": null,
      "outputs": []
    },
    {
      "cell_type": "code",
      "metadata": {
        "id": "esrv7niew9dt"
      },
      "source": [
        "iris"
      ],
      "execution_count": null,
      "outputs": []
    },
    {
      "cell_type": "code",
      "metadata": {
        "id": "XuOwVvfTJO77"
      },
      "source": [
        "iris = pd.read_csv('iris.csv', header='infer', sep=',')\n",
        "iris"
      ],
      "execution_count": null,
      "outputs": []
    },
    {
      "cell_type": "code",
      "metadata": {
        "id": "fxB4Dl45JO8B"
      },
      "source": [
        "pd.read_ # доступно очень большое кол-во форматов для чтения"
      ],
      "execution_count": null,
      "outputs": []
    },
    {
      "cell_type": "code",
      "metadata": {
        "id": "fyyhHLxvJO8D"
      },
      "source": [
        "# запись to_csv() и другие"
      ],
      "execution_count": null,
      "outputs": []
    },
    {
      "cell_type": "code",
      "metadata": {
        "id": "WE9ECEpqJO8H"
      },
      "source": [
        "iris.to_csv('iris_test.csv', header=True, index=False) # сохраняем в качестве первой строки список колонок, первой колонкой индекс НЕ пишем"
      ],
      "execution_count": null,
      "outputs": []
    },
    {
      "cell_type": "code",
      "metadata": {
        "id": "mVr6ZmbeJO8K"
      },
      "source": [
        "!ls"
      ],
      "execution_count": null,
      "outputs": []
    },
    {
      "cell_type": "code",
      "source": [
        "iris.to_excel('iris_test.xlsx', header=True, index=False) # сохраняем в качестве первой строки список колонок, первой колонкой индекс НЕ пишем"
      ],
      "metadata": {
        "id": "uKH-ozHvbjIe"
      },
      "execution_count": null,
      "outputs": []
    },
    {
      "cell_type": "code",
      "source": [
        "!ls"
      ],
      "metadata": {
        "id": "exiJ72XGbwI6"
      },
      "execution_count": null,
      "outputs": []
    },
    {
      "cell_type": "markdown",
      "metadata": {
        "id": "Pm4VaLUeI10E"
      },
      "source": [
        "Загрузим набор данных iris.csv, и потренируемся делать выборки на нем."
      ]
    },
    {
      "cell_type": "code",
      "metadata": {
        "id": "nnbEh9gc1cKJ"
      },
      "source": [
        "import numpy as np\n",
        "import pandas as pd\n",
        "\n",
        "iris = pd.read_csv('iris.csv', header='infer')\n",
        "iris.head(5)"
      ],
      "execution_count": null,
      "outputs": []
    },
    {
      "cell_type": "code",
      "source": [
        "iris.shape"
      ],
      "metadata": {
        "id": "89iond4qdDLl"
      },
      "execution_count": null,
      "outputs": []
    },
    {
      "cell_type": "markdown",
      "metadata": {
        "id": "U0fPFSF4LYF8"
      },
      "source": [
        "##### Задачи на выборку данных\n",
        "1. выведите первые 4 строки и первые 2 столбца с помощью метода .iloc\n",
        "2. выведите только колонки sepal.length и petal.length с помощью loc и/или квадратных скобок\n",
        "3. сделайте индексом колонку variety с помощью метода .set_index(), и выберите с помощью .loc только вид 'Setosa'"
      ]
    },
    {
      "cell_type": "markdown",
      "metadata": {
        "id": "KM8cfJ155tDf"
      },
      "source": [
        "#### Выборка по маске\n",
        "Также как и в numpy присутствует возможность делать выборки по маске. Но здесь механизм несколько отличается. Если в numpy мы получали матрицу из True и False, и у каждому элементу было сопоставлено значение True (брать в выборку) или False (не брать в выборку), то в pandas маска это pandas Series **с такой же индексацией** что и исходный датафрейм или серия, состоящий из значений True или False. Т.е мы указываем какие строчки идут в результирующую выборку, а какие нет."
      ]
    },
    {
      "cell_type": "code",
      "metadata": {
        "id": "-PTUQqN8y1d-"
      },
      "source": [
        "iris[(iris['sepal.length'] > 5.0) | (iris['sepal.width'] <= 3.0)]"
      ],
      "execution_count": null,
      "outputs": []
    },
    {
      "cell_type": "code",
      "metadata": {
        "id": "t37hpxJwyrjj"
      },
      "source": [
        "iris['sepal.width'] <= 3.0"
      ],
      "execution_count": null,
      "outputs": []
    },
    {
      "cell_type": "code",
      "metadata": {
        "id": "Jz9CGQmezAPG"
      },
      "source": [
        "(iris['sepal.length'] > 5.0) & (iris['sepal.width'] <= 3.0)"
      ],
      "execution_count": null,
      "outputs": []
    },
    {
      "cell_type": "code",
      "metadata": {
        "id": "9271wAf550K8"
      },
      "source": [
        "# получаем маску в которой у каждого индекса (!!!) указано оставлять его в наборе данных или нет\n",
        "(iris['sepal.length'] > 5.0) & (iris['sepal.width'] <= 3.0)"
      ],
      "execution_count": null,
      "outputs": []
    },
    {
      "cell_type": "markdown",
      "metadata": {
        "id": "4WPrqkY5NHGL"
      },
      "source": [
        "Конечно, мы можем выстраивать условия в логические цепочки"
      ]
    },
    {
      "cell_type": "code",
      "metadata": {
        "id": "GFtyX5eC7jBw"
      },
      "source": [
        "iris[(iris['sepal.length'] > 5.0) & (iris['sepal.width'] <= 3.0)]"
      ],
      "execution_count": null,
      "outputs": []
    },
    {
      "cell_type": "markdown",
      "metadata": {
        "id": "DtqFuI2VNM2P"
      },
      "source": [
        "Мы можем даже перемешать значения, но выборка все равно останется той же за счет соответствия по индексу!"
      ]
    },
    {
      "cell_type": "code",
      "metadata": {
        "id": "ONc_NwmM8TP-"
      },
      "source": [
        "A = iris.sort_values('sepal.length')[(iris['sepal.length'] > 5.0) & (iris['sepal.width'] <= 3.0)]"
      ],
      "execution_count": null,
      "outputs": []
    },
    {
      "cell_type": "code",
      "source": [
        "A.shape"
      ],
      "metadata": {
        "id": "Q9BpVJxvfcWp"
      },
      "execution_count": null,
      "outputs": []
    },
    {
      "cell_type": "code",
      "metadata": {
        "id": "Aw8SFfoDzqzn"
      },
      "source": [
        "A"
      ],
      "execution_count": null,
      "outputs": []
    },
    {
      "cell_type": "code",
      "metadata": {
        "id": "rZ_UCiXLztWi"
      },
      "source": [
        "A.reset_index(inplace=True, drop=True)"
      ],
      "execution_count": null,
      "outputs": []
    },
    {
      "cell_type": "code",
      "metadata": {
        "id": "kXRHc3JSzwnr"
      },
      "source": [
        "A"
      ],
      "execution_count": null,
      "outputs": []
    },
    {
      "cell_type": "code",
      "metadata": {
        "id": "Yd4lSJtX8idO"
      },
      "source": [
        "# получим уникальные значения индексов в каждой выборке\n",
        "# если множество ключей в первом случае совпадает со множеством во втором случае, то \n",
        "# в обоих случаях мы сделали одинаковую выборку\n",
        "\n",
        "set(iris[(iris['sepal.length'] > 5.0) & (iris['sepal.width'] <= 3.0)].index) \\\n",
        " - set(iris.sort_values('sepal.length')[(iris['sepal.length'] > 5.0) & (iris['sepal.width'] <= 3.0)].index)"
      ],
      "execution_count": null,
      "outputs": []
    },
    {
      "cell_type": "markdown",
      "metadata": {
        "id": "595C7R70NW6B"
      },
      "source": [
        "Для того, чтобы сделать фильтрацию по значениям в колонке, используйте метод .isin()"
      ]
    },
    {
      "cell_type": "code",
      "metadata": {
        "id": "aEsjJxXP9Ld6"
      },
      "source": [
        "iris['variety'].isin(['Setosa', 'Virginica']) # проверка по множеству"
      ],
      "execution_count": null,
      "outputs": []
    },
    {
      "cell_type": "code",
      "source": [
        "iris[iris['variety'].isin(['Setosa', 'Virginica'])]"
      ],
      "metadata": {
        "id": "2731R0-Ue-iS"
      },
      "execution_count": null,
      "outputs": []
    },
    {
      "cell_type": "markdown",
      "metadata": {
        "id": "EegTxCuY6Iji"
      },
      "source": [
        "#### Вставка значений\n",
        "Вставку значений можно производить методами доступа .loc и .iloc, а также методом .at. Разница в том, что .loc и .iloc чуть более универсальны, и позволяют изменить сразу целый диапазон, при этом важно соблюсти размерности вставляемых данных. .at в свою очередь дает нам точечную вставку \"на место\", и лучше подходит с точки зрения чтения кода."
      ]
    },
    {
      "cell_type": "code",
      "metadata": {
        "id": "J20qVkLK6UaQ"
      },
      "source": [
        "df = pd.DataFrame(np.random.rand(6,3), \n",
        "                  index=['a','b','c','d','e','f'], \n",
        "                  columns=['first', 'second', 'third'])\n",
        "df"
      ],
      "execution_count": null,
      "outputs": []
    },
    {
      "cell_type": "code",
      "metadata": {
        "id": "irjWXOXK970y"
      },
      "source": [
        "df.loc['b','first'] = 1.0\n",
        "df"
      ],
      "execution_count": null,
      "outputs": []
    },
    {
      "cell_type": "code",
      "metadata": {
        "id": "uLmvO-8m-C3I"
      },
      "source": [
        "df.loc['a':'c', 'first'] = [0.5, 1.5, 2.0]\n",
        "df"
      ],
      "execution_count": null,
      "outputs": []
    },
    {
      "cell_type": "code",
      "source": [
        "df.iloc['d', ['first', 'second', 'third']] = 30000\n",
        "df"
      ],
      "metadata": {
        "id": "ah_Q2Eiyg8p2"
      },
      "execution_count": null,
      "outputs": []
    },
    {
      "cell_type": "code",
      "source": [
        "df.iloc['d', [0, 1, 2]] = 30000\n",
        "df"
      ],
      "metadata": {
        "id": "IcMnNvuChcfl"
      },
      "execution_count": null,
      "outputs": []
    },
    {
      "cell_type": "code",
      "source": [
        "df.iloc[3, [0, 1, 2]] = 30000\n",
        "df"
      ],
      "metadata": {
        "id": "XGjJ-IRkhOJl"
      },
      "execution_count": null,
      "outputs": []
    },
    {
      "cell_type": "code",
      "metadata": {
        "id": "V52eeVo9-Q5T"
      },
      "source": [
        "df.at['e', 'second'] = 100\n",
        "df"
      ],
      "execution_count": null,
      "outputs": []
    },
    {
      "cell_type": "code",
      "source": [
        "df.at['a':'c', 'first'] = [500, 1500, 2000]\n",
        "df"
      ],
      "metadata": {
        "id": "BKK2z_n655xf"
      },
      "execution_count": null,
      "outputs": []
    },
    {
      "cell_type": "code",
      "source": [
        "df.at['a', ['first', 'third', 'second']] = [500, 1500, 2000]\n",
        "df"
      ],
      "metadata": {
        "id": "RLGPeVaP6cU6"
      },
      "execution_count": null,
      "outputs": []
    },
    {
      "cell_type": "markdown",
      "metadata": {
        "id": "EeDI1sbw85V_"
      },
      "source": [
        "### Пропущенные значения\n",
        "По умолчанию не участвуют в вычислениях, и чаще всего на месте пропусков можно встретить значение np.nan (Not a Number), либо None (для нечисловых типов)"
      ]
    },
    {
      "cell_type": "code",
      "source": [
        "df"
      ],
      "metadata": {
        "id": "0O4xloathqFX"
      },
      "execution_count": null,
      "outputs": []
    },
    {
      "cell_type": "code",
      "metadata": {
        "id": "fklGeRyQ9OV3"
      },
      "source": [
        "# сделаем специально несколько пропущенных значений\n",
        "df.at['e', 'second'] = np.nan\n",
        "df.at['e', 'third'] = np.nan\n",
        "df"
      ],
      "execution_count": null,
      "outputs": []
    },
    {
      "cell_type": "markdown",
      "metadata": {
        "id": "myzu3HkON-5K"
      },
      "source": [
        "Метод .isna() возвращает нам карту с пропусками. Пропуск там, где значение True."
      ]
    },
    {
      "cell_type": "code",
      "metadata": {
        "id": "PEEtieo9_JG4"
      },
      "source": [
        "df.isna()"
      ],
      "execution_count": null,
      "outputs": []
    },
    {
      "cell_type": "markdown",
      "metadata": {
        "id": "mtqB4hvsOGAv"
      },
      "source": [
        "Напоминаю, что в принципе количественную информацию о пропусках можно получить с помощью метода .info()"
      ]
    },
    {
      "cell_type": "code",
      "metadata": {
        "id": "rTLs7ZDd_0Eg"
      },
      "source": [
        "df.info()"
      ],
      "execution_count": null,
      "outputs": []
    },
    {
      "cell_type": "markdown",
      "metadata": {
        "id": "Pl9fNQzMONb8"
      },
      "source": [
        "Для удаления пропусков используется метод .dropna().\n",
        "\n",
        "По умолчанию .dropna() удалит те строки в которых есть хотя бы один пропуск в строке."
      ]
    },
    {
      "cell_type": "code",
      "metadata": {
        "id": "kfJ4dmVr_O8J"
      },
      "source": [
        "df.dropna()"
      ],
      "execution_count": null,
      "outputs": []
    },
    {
      "cell_type": "markdown",
      "metadata": {
        "id": "IXJl85S0OXLa"
      },
      "source": [
        "А с помощью транспонирования можно удалять целые столбцы"
      ]
    },
    {
      "cell_type": "code",
      "metadata": {
        "id": "5uFr3Cu1CfAS"
      },
      "source": [
        "df.T.dropna().T"
      ],
      "execution_count": null,
      "outputs": []
    },
    {
      "cell_type": "markdown",
      "metadata": {
        "id": "c49nwVP5Oblq"
      },
      "source": [
        "Или использовать параметр axis=1"
      ]
    },
    {
      "cell_type": "code",
      "metadata": {
        "id": "qrhxVlpeCmBr"
      },
      "source": [
        "df.dropna(axis=1)"
      ],
      "execution_count": null,
      "outputs": []
    },
    {
      "cell_type": "code",
      "source": [
        "df.dropna(axis=0)"
      ],
      "metadata": {
        "id": "kIBt8TWUicgL"
      },
      "execution_count": null,
      "outputs": []
    },
    {
      "cell_type": "markdown",
      "metadata": {
        "id": "F-szHKr2OfvS"
      },
      "source": [
        "Но все же часто нам все-таки интересны данные с пропусками. Для работы с ними можно использовать метод .fillna()"
      ]
    },
    {
      "cell_type": "markdown",
      "metadata": {
        "id": "ULulO7m7OncW"
      },
      "source": [
        "Вот так мы заполним все пропуски одним и тем же значением"
      ]
    },
    {
      "cell_type": "code",
      "metadata": {
        "id": "76V93JUX_YZx"
      },
      "source": [
        "df.fillna(0)"
      ],
      "execution_count": null,
      "outputs": []
    },
    {
      "cell_type": "markdown",
      "metadata": {
        "id": "wkPPQe-WOrQM"
      },
      "source": [
        "Но обычно мы все же хотим заполнять разные столбцы разными значениями"
      ]
    },
    {
      "cell_type": "code",
      "metadata": {
        "id": "RdxIAOrw_g6b"
      },
      "source": [
        "df.fillna({'second': 0, 'third': 1000})"
      ],
      "execution_count": null,
      "outputs": []
    },
    {
      "cell_type": "markdown",
      "metadata": {
        "id": "f8fkDAFlO1HE"
      },
      "source": [
        "Есть и более продвинутые методы заполнения, сделаем несколько пропусков подряд"
      ]
    },
    {
      "cell_type": "code",
      "metadata": {
        "id": "Z_7X0vPwCdkd"
      },
      "source": [
        "df.at['d', 'second'] = np.nan\n",
        "df.at['d', 'third'] = np.nan\n",
        "df"
      ],
      "execution_count": null,
      "outputs": []
    },
    {
      "cell_type": "markdown",
      "metadata": {
        "id": "IuBi1YpEO53p"
      },
      "source": [
        "Метод bfill заполняет серию пропусков последним корректным (non Null) значением, итерируясь по таблице с конца."
      ]
    },
    {
      "cell_type": "code",
      "metadata": {
        "id": "1ogjRuBfC5T4"
      },
      "source": [
        "df.fillna(method='bfill')"
      ],
      "execution_count": null,
      "outputs": []
    },
    {
      "cell_type": "markdown",
      "metadata": {
        "id": "Mk9MaxUhPBcw"
      },
      "source": [
        "Метод ffill делает то же самое, но итерация происходит с начала таблицы"
      ]
    },
    {
      "cell_type": "code",
      "metadata": {
        "id": "PNTZGAxQDHYI"
      },
      "source": [
        "df.fillna(method='ffill')"
      ],
      "execution_count": null,
      "outputs": []
    },
    {
      "cell_type": "code",
      "source": [
        "df"
      ],
      "metadata": {
        "id": "Ilb1p8X4jkKh"
      },
      "execution_count": null,
      "outputs": []
    },
    {
      "cell_type": "code",
      "source": [
        "# df['second'] = df['second'].fillna(0) # работает медленно"
      ],
      "metadata": {
        "id": "oxU8WFFVjp5a"
      },
      "execution_count": null,
      "outputs": []
    },
    {
      "cell_type": "code",
      "source": [
        "df.fillna({'second': 0})"
      ],
      "metadata": {
        "id": "oVHE-kNwj3qj"
      },
      "execution_count": null,
      "outputs": []
    },
    {
      "cell_type": "markdown",
      "metadata": {
        "id": "rvCs5FCBPF6D"
      },
      "source": [
        "bfill и ffill особенно полезны при заполнении пропусков во временном ряду. Более подробно данный функционал описан [здесь](https://pandas.pydata.org/pandas-docs/stable/user_guide/missing_data.html).\n",
        "\n",
        "\n"
      ]
    },
    {
      "cell_type": "markdown",
      "metadata": {
        "id": "kdrHYIAb9Mgg"
      },
      "source": [
        "### Статистики\n",
        "Конечно, в pandas реализовано куча методов для подсчета различных статистик. \n",
        "Полный список методов можно посмотреть [здесь](https://pandas.pydata.org/pandas-docs/stable/reference/frame.html#computations-descriptive-stats) "
      ]
    },
    {
      "cell_type": "markdown",
      "metadata": {
        "id": "gxXWDN_1cCw-"
      },
      "source": [
        "Вот так мы можем посчитать средние значения для всех колонок сразу"
      ]
    },
    {
      "cell_type": "code",
      "metadata": {
        "id": "_JruytLXDmdd"
      },
      "source": [
        "df.mean()"
      ],
      "execution_count": null,
      "outputs": []
    },
    {
      "cell_type": "markdown",
      "metadata": {
        "id": "U3Dixka8cIdj"
      },
      "source": [
        "А так посчитать среднее лишь для одной колонки"
      ]
    },
    {
      "cell_type": "code",
      "metadata": {
        "id": "FZQ5dfLgDpW4"
      },
      "source": [
        "df['first'].mean()"
      ],
      "execution_count": null,
      "outputs": []
    },
    {
      "cell_type": "markdown",
      "metadata": {
        "id": "1JGGlTKDcLyY"
      },
      "source": [
        "То же для [стандартного отклонения](https://berg.com.ua/indicators-overlays/stdev/#:~:text=%D0%A1%D1%82%D0%B0%D0%BD%D0%B4%D0%B0%D1%80%D1%82%D0%BD%D0%BE%D0%B5%20%D0%BE%D1%82%D0%BA%D0%BB%D0%BE%D0%BD%D0%B5%D0%BD%D0%B8%D0%B5%20%D0%BC%D0%BE%D0%B6%D0%BD%D0%BE%20%D0%B2%D1%8B%D1%80%D0%B0%D0%B7%D0%B8%D1%82%D1%8C%20%D1%84%D0%BE%D1%80%D0%BC%D1%83%D0%BB%D0%BE%D0%B9,%D0%BD%D0%B0%20%D0%BA%D0%BE%D0%BB%D0%B8%D1%87%D0%B5%D1%81%D1%82%D0%B2%D0%BE%20%D1%8D%D0%BB%D0%B5%D0%BC%D0%B5%D0%BD%D1%82%D0%BE%D0%B2%20%D0%B2%20%D0%B2%D1%8B%D0%B1%D0%BE%D1%80%D0%BA%D0%B5.)"
      ]
    },
    {
      "cell_type": "code",
      "metadata": {
        "id": "MX-rIJNIDupp"
      },
      "source": [
        "df.std() # стандартное"
      ],
      "execution_count": null,
      "outputs": []
    },
    {
      "cell_type": "markdown",
      "metadata": {
        "id": "SfaCeG1JcXOo"
      },
      "source": [
        "Или [дисперсии](https://ru.qwe.wiki/wiki/Variance)"
      ]
    },
    {
      "cell_type": "code",
      "metadata": {
        "id": "Eqkyt5U2D7SD"
      },
      "source": [
        "df.var() # дисперсию"
      ],
      "execution_count": null,
      "outputs": []
    },
    {
      "cell_type": "markdown",
      "metadata": {
        "id": "C_DcwxPGcjo8"
      },
      "source": [
        "А с помощью .value_counts() можно посчитать кол-во вхождений уникальных значений"
      ]
    },
    {
      "cell_type": "code",
      "source": [
        "df"
      ],
      "metadata": {
        "id": "4kotZql0kMAp"
      },
      "execution_count": null,
      "outputs": []
    },
    {
      "cell_type": "code",
      "source": [
        "df.loc['b', 'second'] = 2000\n",
        "df"
      ],
      "metadata": {
        "id": "6OVw_vGykL1k"
      },
      "execution_count": null,
      "outputs": []
    },
    {
      "cell_type": "code",
      "metadata": {
        "id": "GoxBIBOzD-7f"
      },
      "source": [
        "df['second'].value_counts()"
      ],
      "execution_count": null,
      "outputs": []
    },
    {
      "cell_type": "code",
      "source": [
        "df['second'].count()"
      ],
      "metadata": {
        "id": "R_DCiNvQqZIq"
      },
      "execution_count": null,
      "outputs": []
    },
    {
      "cell_type": "code",
      "source": [
        "df['second'].isna().sum()"
      ],
      "metadata": {
        "id": "6QoBza0wkf7w"
      },
      "execution_count": null,
      "outputs": []
    },
    {
      "cell_type": "code",
      "source": [
        "df['second'].sum()"
      ],
      "metadata": {
        "id": "dbsi_b_kkscx"
      },
      "execution_count": null,
      "outputs": []
    },
    {
      "cell_type": "markdown",
      "metadata": {
        "id": "R1jhhJtW-qzH"
      },
      "source": [
        "### Применение функций к данным (apply)\n",
        "И все же иногда в pandas требуются новые функции со своей логикой обработки. Тогда на помощью приходит метод .apply\n",
        "\n",
        "Он работает следующим образом. Мы передаем первым аргументом функцию, которая отвечает за логику, а вторым передаем axis, т.е мы указываем производить обработку по колонкам или по строкам.\n",
        "\n",
        "В самой функции, задающей логику, нужно не забыть вернуть строку или столбец обратно в таблицу (return).\n",
        "\n",
        "Полное описание функции доступно [тут](https://pandas.pydata.org/pandas-docs/stable/reference/api/pandas.DataFrame.apply.html)"
      ]
    },
    {
      "cell_type": "code",
      "source": [
        "df.iloc[0, :].to_frame().T"
      ],
      "metadata": {
        "id": "Vl4gPUPnmDXS"
      },
      "execution_count": null,
      "outputs": []
    },
    {
      "cell_type": "code",
      "source": [
        "df.iloc[0, :]"
      ],
      "metadata": {
        "id": "tk863fRrmYMr"
      },
      "execution_count": null,
      "outputs": []
    },
    {
      "cell_type": "code",
      "metadata": {
        "id": "OClIh5rB-xwW"
      },
      "source": [
        "def my_function(r): \n",
        "  r['first'] = r['first']**2\n",
        "  r['second'] = r['second'] - 1\n",
        "  return r\n",
        "\n",
        "print(\"begin\")\n",
        "df.apply(my_function, axis=1) # тогда в my_function будут отправляться строки, в параметр r\n",
        "# for *итерация по строчкам*\n",
        "#.  применить к строке функцию my_function и перезаписать строчку"
      ],
      "execution_count": null,
      "outputs": []
    },
    {
      "cell_type": "code",
      "source": [
        "df.second"
      ],
      "metadata": {
        "id": "z5cwGCvRnjlI"
      },
      "execution_count": null,
      "outputs": []
    },
    {
      "cell_type": "code",
      "source": [
        "df.rename(columns={'second':'second column'})['second column']"
      ],
      "metadata": {
        "id": "xAmMhnAYnuCK"
      },
      "execution_count": null,
      "outputs": []
    },
    {
      "cell_type": "code",
      "source": [
        "df['first'].name"
      ],
      "metadata": {
        "id": "rMODuqIUoPVY"
      },
      "execution_count": null,
      "outputs": []
    },
    {
      "cell_type": "code",
      "metadata": {
        "id": "tpJImv49FXkr"
      },
      "source": [
        "def my_function(c):\n",
        "  if c.name == 'first':\n",
        "    c = c**2\n",
        "  if c.name == 'second':\n",
        "    c = c - 1\n",
        "  return c\n",
        "\n",
        "print(\"begin\")\n",
        "df.apply(my_function, axis=0) # тогда в my_function будут отправляться столбцы, в параметр c\n",
        "# for *итерация по колонкам*\n",
        "#.  применить к колонке функцию my_function и перезаписать колонку"
      ],
      "execution_count": null,
      "outputs": []
    },
    {
      "cell_type": "markdown",
      "source": [
        "#### Полезный бонус: groupby"
      ],
      "metadata": {
        "id": "hnm7QDHfcj0Q"
      }
    },
    {
      "cell_type": "code",
      "source": [
        "# groupby\n",
        "\n"
      ],
      "metadata": {
        "id": "3eARQPPReJP2"
      },
      "execution_count": null,
      "outputs": []
    },
    {
      "cell_type": "code",
      "source": [
        ""
      ],
      "metadata": {
        "id": "UU9CheYOhJZr"
      },
      "execution_count": null,
      "outputs": []
    }
  ]
}