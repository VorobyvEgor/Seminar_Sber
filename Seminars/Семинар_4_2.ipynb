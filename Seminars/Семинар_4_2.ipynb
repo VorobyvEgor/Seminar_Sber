{
  "nbformat": 4,
  "nbformat_minor": 0,
  "metadata": {
    "colab": {
      "name": "Семинар-4.2.ipynb",
      "provenance": [],
      "collapsed_sections": [],
      "include_colab_link": true
    },
    "kernelspec": {
      "display_name": "Python 3",
      "language": "python",
      "name": "python3"
    },
    "language_info": {
      "codemirror_mode": {
        "name": "ipython",
        "version": 3
      },
      "file_extension": ".py",
      "mimetype": "text/x-python",
      "name": "python",
      "nbconvert_exporter": "python",
      "pygments_lexer": "ipython3",
      "version": "3.8.5"
    }
  },
  "cells": [
    {
      "cell_type": "markdown",
      "metadata": {
        "id": "view-in-github",
        "colab_type": "text"
      },
      "source": [
        "<a href=\"https://colab.research.google.com/github/VorobyvEgor/Seminar_Sber/blob/main/Seminars/%D0%A1%D0%B5%D0%BC%D0%B8%D0%BD%D0%B0%D1%80_4_2.ipynb\" target=\"_parent\"><img src=\"https://colab.research.google.com/assets/colab-badge.svg\" alt=\"Open In Colab\"/></a>"
      ]
    },
    {
      "cell_type": "code",
      "metadata": {
        "ExecuteTime": {
          "end_time": "2021-02-20T09:04:25.887129Z",
          "start_time": "2021-02-20T09:04:24.096021Z"
        },
        "id": "6Oz4d6jcq5Fj"
      },
      "source": [
        "import pandas as pd\n",
        "import numpy as np\n",
        "import scipy as sp\n",
        "from sklearn.decomposition import PCA\n",
        "\n",
        "import os\n",
        "\n",
        "import seaborn as sns\n",
        "import matplotlib.pyplot as plt\n",
        "%matplotlib inline\n",
        "\n",
        "sns.set(font_scale=1.3)\n",
        "\n",
        "red = '#FF3300'\n",
        "blue = '#0099CC'\n",
        "green = '#00CC66'"
      ],
      "execution_count": null,
      "outputs": []
    },
    {
      "cell_type": "markdown",
      "metadata": {
        "id": "Mw6S16mRq5GB"
      },
      "source": [
        "# Метод главных компонент\n",
        "### (Principal component analysis, PCA)\n",
        "\n",
        "Интерактивная визуализация PCA и собственных векторов:\n",
        "\n",
        "* <a href=\"http://setosa.io/ev/principal-component-analysis/\">Principal Component Analysis</a>\n",
        "\n",
        "* <a href=\"http://setosa.io/ev/eigenvectors-and-eigenvalues/\">Eigenvectors and Eigenvalues</a>"
      ]
    },
    {
      "cell_type": "markdown",
      "metadata": {
        "id": "xcK2IlpNq5GD"
      },
      "source": [
        "## 1. SVD-разложение"
      ]
    },
    {
      "cell_type": "markdown",
      "metadata": {
        "id": "63U95Rvzq5GF"
      },
      "source": [
        "Генерируем датасет из равномерного распределения."
      ]
    },
    {
      "cell_type": "code",
      "metadata": {
        "ExecuteTime": {
          "end_time": "2021-02-20T09:04:25.907915Z",
          "start_time": "2021-02-20T09:04:25.890467Z"
        },
        "id": "bV07mCsFq5GF"
      },
      "source": [
        "X = np.random.normal(size=(100, 10))\n",
        "print(X.shape)"
      ],
      "execution_count": null,
      "outputs": []
    },
    {
      "cell_type": "code",
      "metadata": {
        "id": "S041XO5tJEp5"
      },
      "source": [
        "pd.DataFrame(X)"
      ],
      "execution_count": null,
      "outputs": []
    },
    {
      "cell_type": "markdown",
      "metadata": {
        "id": "g7MY_AaLq5GJ"
      },
      "source": [
        "Вот так можно вычислять сингулярное разложение этого датасета."
      ]
    },
    {
      "cell_type": "code",
      "metadata": {
        "ExecuteTime": {
          "end_time": "2021-02-20T09:04:25.932560Z",
          "start_time": "2021-02-20T09:04:25.910894Z"
        },
        "id": "6BLrmpA4q5GN"
      },
      "source": [
        "U, D, V = sp.linalg.svd(X, full_matrices=False)  # If True (default), U and V are of shape (M, M), (N, N). If False, the shapes are (M, K) and (K, N), where K = min(M, N).\n",
        "print(U.shape, D.shape, V.shape)"
      ],
      "execution_count": null,
      "outputs": []
    },
    {
      "cell_type": "markdown",
      "metadata": {
        "id": "NK1aE7jfrUDn"
      },
      "source": [
        "Проверим, что получилось. Восстановим датасет и сравним с исходной версией."
      ]
    },
    {
      "cell_type": "code",
      "source": [
        "# Посмотрим, что из себя представляет матрица D\n",
        "\n",
        "print(...)"
      ],
      "metadata": {
        "id": "viFbWvzhZzOc"
      },
      "execution_count": null,
      "outputs": []
    },
    {
      "cell_type": "code",
      "source": [
        "# Напомним как создать единичную матрицу\n",
        "\n",
        "print(...)"
      ],
      "metadata": {
        "id": "Jos3nHxaZwS2"
      },
      "execution_count": null,
      "outputs": []
    },
    {
      "cell_type": "code",
      "source": [
        "D * np.eye(10)"
      ],
      "metadata": {
        "id": "oMrrvAODZ1cR"
      },
      "execution_count": null,
      "outputs": []
    },
    {
      "cell_type": "code",
      "metadata": {
        "ExecuteTime": {
          "end_time": "2021-02-20T09:04:25.940295Z",
          "start_time": "2021-02-20T09:04:25.934210Z"
        },
        "colab": {
          "base_uri": "https://localhost:8080/"
        },
        "id": "wDVSij_OsGCf",
        "outputId": "102a1431-8669-489b-9ed7-08e09e236b77"
      },
      "source": [
        "X_restored = np.dot(U, np.dot(D * np.eye(10), V))\n",
        "print(np.allclose(X_restored, X))"
      ],
      "execution_count": null,
      "outputs": [
        {
          "output_type": "stream",
          "name": "stdout",
          "text": [
            "True\n"
          ]
        }
      ]
    },
    {
      "cell_type": "markdown",
      "metadata": {
        "id": "HQg-ABMreVMg"
      },
      "source": [
        "Восстановленная версия действительно очень близка к исходной."
      ]
    },
    {
      "cell_type": "markdown",
      "metadata": {
        "id": "xR03V00iq5GQ"
      },
      "source": [
        "## 2. PCA\n",
        "\n",
        "Реализация из sklearn:\n",
        "\n",
        "<a href=\"https://scikit-learn.org/stable/modules/generated/sklearn.decomposition.PCA\">`sklearn.decomposition.PCA`</a>`(n_components=None)`\n",
        "\n",
        "Методы класса:\n",
        "* `fit(X)` — обучиться на данных `X`;\n",
        "* `fit_transforn(X)` — обучиться на данных `X` и вернуть сжатое представление `X`;\n",
        "* `transform(X_new)` — вернуть сжатое представление `X_new` для обученной ранее модели;\n",
        "* `inverse_transform(Y)` — восстановить сжатые данные `Y` в исходное пространство.\n",
        "\n",
        "Атрибуты класса:\n",
        "\n",
        "* `components_` — главные компоненты в порядке убывания собственных чисел, размер (n_components, n_features);\n",
        "* `explained_variance_` — дисперсия вдоль главных компонент, равны собственным числам, размер (n_components,);\n",
        "* `explained_variance_ratio_` —- доля дисперсии, объясняемая каждой компонентой, размер (n_components,);\n",
        "* `mean_` — среднее по данным, размер (n_components,);\n",
        "* `noise_variance_` — оценка дисперсии шума для метода Probabilistic PCA.\n",
        "\n",
        "Другие модификации, реализованные в sklearn:\n",
        "\n",
        "* <a href=\"https://scikit-learn.org/stable/modules/generated/sklearn.decomposition.KernelPCA\">`KernelPCA`</a>;\n",
        "* <a href=\"https://scikit-learn.org/stable/modules/generated/sklearn.decomposition.SparsePCA\">`SparsePCA`</a>;\n",
        "* <a href=\"https://scikit-learn.org/stable/modules/generated/sklearn.decomposition.IncrementalPCA\">`IncrementalPCA`</a>."
      ]
    },
    {
      "cell_type": "markdown",
      "metadata": {
        "id": "_ijs7O0qq5GT"
      },
      "source": [
        "Генерируем двумерный датасет из нормального распределения."
      ]
    },
    {
      "cell_type": "code",
      "metadata": {
        "ExecuteTime": {
          "end_time": "2021-02-20T09:04:25.956789Z",
          "start_time": "2021-02-20T09:04:25.942439Z"
        },
        "id": "ZBBmCNaCq5GW"
      },
      "source": [
        "X = np.random.multivariate_normal(size=150, mean=[0, 3], cov=[[3, 1], [1, 1]])\n",
        "# X = np.random.multivariate_normal(size=150, mean=[0, 3, 4, 5], cov=[[3, 1, 2, 1], [1, 1, 1, 1], [3, 4, 9, 1], [3, 1, 3, 5]])"
      ],
      "execution_count": null,
      "outputs": []
    },
    {
      "cell_type": "code",
      "metadata": {
        "id": "v9_y40xcLaF2"
      },
      "source": [
        "X.shape"
      ],
      "execution_count": null,
      "outputs": []
    },
    {
      "cell_type": "code",
      "source": [
        "pd.DataFrame(X)"
      ],
      "metadata": {
        "id": "oA2qwVgVak4C"
      },
      "execution_count": null,
      "outputs": []
    },
    {
      "cell_type": "code",
      "metadata": {
        "ExecuteTime": {
          "end_time": "2021-02-20T09:04:25.971396Z",
          "start_time": "2021-02-20T09:04:25.958785Z"
        },
        "id": "7jMA2XwXq5Gj"
      },
      "source": [
        "pca = PCA(n_components=1)\n",
        "Y = pca.fit_transform(X)\n",
        "X_hat = pca.inverse_transform(Y)"
      ],
      "execution_count": null,
      "outputs": []
    },
    {
      "cell_type": "code",
      "metadata": {
        "id": "lddJLpAvLqAY"
      },
      "source": [
        "Y.shape"
      ],
      "execution_count": null,
      "outputs": []
    },
    {
      "cell_type": "code",
      "metadata": {
        "id": "n8VUD1QhNxv_"
      },
      "source": [
        "X_hat.shape"
      ],
      "execution_count": null,
      "outputs": []
    },
    {
      "cell_type": "markdown",
      "metadata": {
        "id": "Qk4T_wYwq5Gk"
      },
      "source": [
        "Его главные компоненты (точнее, одна компонента) — двумерные векторы."
      ]
    },
    {
      "cell_type": "code",
      "metadata": {
        "ExecuteTime": {
          "end_time": "2021-02-20T09:04:25.979961Z",
          "start_time": "2021-02-20T09:04:25.974470Z"
        },
        "id": "rpBuWAIRq5Gl"
      },
      "source": [
        "pca.components_"
      ],
      "execution_count": null,
      "outputs": []
    },
    {
      "cell_type": "markdown",
      "metadata": {
        "id": "iTrCnyzXq5Gm"
      },
      "source": [
        "Вектор средних:"
      ]
    },
    {
      "cell_type": "code",
      "metadata": {
        "ExecuteTime": {
          "end_time": "2021-02-20T09:04:25.992390Z",
          "start_time": "2021-02-20T09:04:25.982678Z"
        },
        "id": "4H9RUpvjq5Gm"
      },
      "source": [
        "pca.mean_"
      ],
      "execution_count": null,
      "outputs": []
    },
    {
      "cell_type": "markdown",
      "metadata": {
        "id": "c3fx4Kzzq5Gn"
      },
      "source": [
        "На первом графике синим отмечены исходные точки, красным - они же после проецирования и обратного преобразования.\n",
        "На втором графике точки в одномерном пространстве."
      ]
    },
    {
      "cell_type": "code",
      "metadata": {
        "id": "487WsLGKMLbU"
      },
      "source": [
        "pd.DataFrame(X)"
      ],
      "execution_count": null,
      "outputs": []
    },
    {
      "cell_type": "code",
      "source": [
        "pd.DataFrame(X_hat)"
      ],
      "metadata": {
        "id": "COIaEzQQjSg7"
      },
      "execution_count": null,
      "outputs": []
    },
    {
      "cell_type": "code",
      "metadata": {
        "ExecuteTime": {
          "end_time": "2021-02-20T09:04:26.615570Z",
          "start_time": "2021-02-20T09:04:25.995070Z"
        },
        "id": "Ej-Sg_VJq5Go"
      },
      "source": [
        "plt.figure(figsize=(12, 7))\n",
        "plt.scatter(X[:, 0], X[:, 1], alpha=0.7, color=blue)\n",
        "plt.scatter(X_hat[:, 0], X_hat[:, 1], color=red, alpha=0.7)\n",
        "plt.xlabel('Исходный признак 1')\n",
        "plt.ylabel('Исходный признак 2')\n",
        "plt.axis('equal')\n",
        "plt.show()\n",
        "\n",
        "plt.figure(figsize=(10, 1))\n",
        "plt.scatter(Y, np.zeros(len(Y)), alpha=0.5, color=red)\n",
        "plt.xlabel('Проекция на первую главную компоненту')\n",
        "plt.show()"
      ],
      "execution_count": null,
      "outputs": []
    },
    {
      "cell_type": "markdown",
      "metadata": {
        "id": "khZlPOdYq5HB"
      },
      "source": [
        "Другие методы снижения размерности:\n",
        "\n",
        "* http://scikit-learn.org/stable/modules/manifold.html#manifold\n",
        "\n",
        "Примеры с визуализацией:\n",
        "\n",
        "* http://scikit-learn.org/stable/auto_examples/manifold/plot_compare_methods.html#sphx-glr-auto-examples-manifold-plot-compare-methods-py\n",
        "\n",
        "* http://scikit-learn.org/stable/auto_examples/manifold/plot_manifold_sphere.html#sphx-glr-auto-examples-manifold-plot-manifold-sphere-py"
      ]
    },
    {
      "cell_type": "markdown",
      "source": [
        "## 3. Cжатие изображений с помощью PCA"
      ],
      "metadata": {
        "id": "A7BEraabhWFC"
      }
    },
    {
      "cell_type": "code",
      "source": [
        "! wget https://www.dropbox.com/s/ehhrw5l46rpnv61/3840x2400.png"
      ],
      "metadata": {
        "id": "iRYT8urpXo_z"
      },
      "execution_count": null,
      "outputs": []
    },
    {
      "cell_type": "code",
      "source": [
        "! ls"
      ],
      "metadata": {
        "id": "SWk1XCZHhjBQ"
      },
      "execution_count": null,
      "outputs": []
    },
    {
      "cell_type": "code",
      "source": [
        "image = plt.imread('3840x2400.png')\n",
        "image.shape"
      ],
      "metadata": {
        "id": "5dvr5_TphlBz"
      },
      "execution_count": null,
      "outputs": []
    },
    {
      "cell_type": "code",
      "source": [
        "# посмотрим что из себя представляет image\n",
        "\n",
        "..."
      ],
      "metadata": {
        "id": "-FgLMgQyhpST"
      },
      "execution_count": null,
      "outputs": []
    },
    {
      "cell_type": "code",
      "source": [
        "plt.imshow(image)"
      ],
      "metadata": {
        "id": "i9KT6qZPh5_e"
      },
      "execution_count": null,
      "outputs": []
    },
    {
      "cell_type": "markdown",
      "source": [
        "Применим к картинке преобразование для выделения 24 блоков размера 600x640."
      ],
      "metadata": {
        "id": "U71TZ_cXiCO_"
      }
    },
    {
      "cell_type": "code",
      "source": [
        "# Хотим: 4 * 6 блока по (600, 640, 3). То есть массив размерности (24, 600, 640, 3\n",
        "image.shape"
      ],
      "metadata": {
        "id": "GLelbgRsh73m"
      },
      "execution_count": null,
      "outputs": []
    },
    {
      "cell_type": "code",
      "source": [
        "image.transpose((1, 2, 0)).shape"
      ],
      "metadata": {
        "id": "15W4HLkih79_"
      },
      "execution_count": null,
      "outputs": []
    },
    {
      "cell_type": "code",
      "source": [
        "# Разбиваем высоту\n",
        "\n",
        "image.transpose((1, 2, 0)).reshape((3840, 3, 4, 600)).shape "
      ],
      "metadata": {
        "id": "g8YIWBhmh8AY"
      },
      "execution_count": null,
      "outputs": []
    },
    {
      "cell_type": "code",
      "source": [
        "image.transpose((1, 2, 0)).reshape((3840, 3, 4, 600)).transpose((1, 2, 3, 0)).shape "
      ],
      "metadata": {
        "id": "m5y1h-_Vh8CL"
      },
      "execution_count": null,
      "outputs": []
    },
    {
      "cell_type": "code",
      "source": [
        "# Разбиваем ширину\n",
        "\n",
        "image.transpose((1, 2, 0)).reshape((3840, 3, 4, 600)).transpose((1, 2, 3, 0)).reshape((3, 4, 600, 6, 640)).shape "
      ],
      "metadata": {
        "id": "3xoAZxovizH5"
      },
      "execution_count": null,
      "outputs": []
    },
    {
      "cell_type": "code",
      "source": [
        "image.transpose((1, 2, 0)).reshape((3840, 3, 4, 600)).transpose((1, 2, 3, 0)).reshape((3, 4, 600, 6, 640)).transpose((1, 3, 2, 4, 0)).shape "
      ],
      "metadata": {
        "id": "laxiXEi7izNd"
      },
      "execution_count": null,
      "outputs": []
    },
    {
      "cell_type": "code",
      "source": [
        "# Схлопываем\n",
        "\n",
        "image.transpose((1, 2, 0)).reshape((3840, 3, 4, 600)).transpose((1, 2, 3, 0)).reshape((3, 4, 600, 6, 640)).transpose((1, 3, 2, 4, 0)).reshape((4 * 6, 600 * 640 * 3)).shape "
      ],
      "metadata": {
        "id": "xWTe5EZ1izPo"
      },
      "execution_count": null,
      "outputs": []
    },
    {
      "cell_type": "code",
      "source": [
        "# Итого:\n",
        "\n",
        "X = image.transpose((1, 2, 0)).reshape((3840, 3, 4, 600)) \\\n",
        "         .transpose((1, 2, 3, 0)).reshape((3, 4, 600, 6, 640)) \\\n",
        "         .transpose((1, 3, 2, 4, 0)).reshape((4 * 6, 600 * 640 * 3))\n",
        "print(X.shape)"
      ],
      "metadata": {
        "id": "-kXdu42HjCuS"
      },
      "execution_count": null,
      "outputs": []
    },
    {
      "cell_type": "code",
      "source": [
        "# Визуализируем блоки.\n",
        "\n",
        "plt.figure(figsize=(11, 7))\n",
        "for i in range(24):\n",
        "    plt.subplot(4, 6, i + 1)\n",
        "    plt.imshow(X[i].reshape((600, 640, 3)))\n",
        "    plt.axis('off');\n",
        "\n",
        "# Как видим, все правильно."
      ],
      "metadata": {
        "id": "mWRuatWLjCwq"
      },
      "execution_count": null,
      "outputs": []
    },
    {
      "cell_type": "markdown",
      "source": [
        "Напишем несколько функций."
      ],
      "metadata": {
        "id": "iINTgk6MjPfM"
      }
    },
    {
      "cell_type": "code",
      "source": [
        "def draw_components(pca, n, m):\n",
        "    \"\"\"\n",
        "    pca - обученная PCA модель\n",
        "    n - количество горизонтальных блоков картинки\n",
        "    m - количество вертикальных блоков картинки\n",
        "    \"\"\"\n",
        "    print('Среднее изображение')\n",
        "    plt.figure(figsize=(1, 1))\n",
        "    plt.imshow(pca.mean_.reshape((n, m, 3)), cmap='gray')\n",
        "    plt.axis('off')\n",
        "    plt.show()\n",
        "\n",
        "    print('Главные компоненты')\n",
        "    plt.figure(figsize=(11, len(pca.components_) // 10 + 1))\n",
        "    for i, comp in enumerate(pca.components_):\n",
        "        plt.subplot(len(pca.components_) // 10 + 1, 10, i + 1)\n",
        "        img = pca.components_[i].reshape((n, m, 3))\n",
        "        plt.imshow((img - img.min()) / (img.max() - img.min()), cmap='gray')\n",
        "        plt.axis('off')\n",
        "    plt.show()\n",
        "\n",
        "        \n",
        "def image_pca(image, n, m, n_components=20, draw_picture=True, \n",
        "              draw_comp=True, visualization=True):\n",
        "    \"\"\"\n",
        "    image - исходаня картинка\n",
        "    n - количество горизонтальных блоков картинки\n",
        "    m - количество вертикальных блоков картинки\n",
        "    n_components - количество главных компонент\n",
        "    draw_picture - показывать ли исходную картинку\n",
        "    draw_comp - рисовать ли главные компоненты\n",
        "    visualization - рисовать ли проекцию на первые три компоненты\n",
        "    \"\"\"\n",
        "\n",
        "    # Показываем исходную картинку\n",
        "    if draw_picture:\n",
        "        plt.figure(figsize=(15, 7))\n",
        "        plt.imshow(image)\n",
        "        plt.axis('off')\n",
        "        plt.show()\n",
        "    print(\"Размерность оригинальной картинки: \", image.shape)\n",
        "    \n",
        "    # Разбиение на блоки\n",
        "    N, M, K = image.shape\n",
        "    X = image.transpose((1, 2, 0)).reshape((M, K, N // n, n)) \\\n",
        "             .transpose((1, 2, 3, 0)).reshape((K, N // n, n, M // m, m)) \\\n",
        "             .transpose((1, 3, 2, 4, 0)).reshape((N * M // (n * m), n * m * K))\n",
        "    X = X.reshape((N * M // (n * m), n * m * K))\n",
        "    \n",
        "    \n",
        "    # Применение PCA\n",
        "    pca = PCA(n_components=n_components)\n",
        "    Y = pca.fit_transform(X)\n",
        "    X_hat = pca.inverse_transform(Y)\n",
        "    \n",
        "    # Разбираемся с интенсивностью цвета\n",
        "    max_value = X.max()\n",
        "    X_hat = X_hat * (X_hat <= max_value) + max_value * (X_hat > max_value)\n",
        "    X_hat = X_hat * (X_hat >= 0)\n",
        "    \n",
        "    # Собираем картинку из блоков\n",
        "    X_hat = X_hat.reshape((N // n, M // m, n, m, K)).transpose((1, 3, 4, 0, 2))\\\n",
        "                 .reshape((M // m, m, K, N)).transpose((3, 2, 0, 1))\\\n",
        "                 .reshape((N, K, M)).transpose((0, 2, 1))\n",
        "    \n",
        "    # Рисуем восстановленную картинку\n",
        "    plt.figure(figsize=(15, 7))\n",
        "    plt.imshow(X_hat)\n",
        "    plt.axis('off')\n",
        "    plt.title('Восстановленное изображение при {} главных компонентах.\\n'.format(n_components))\n",
        "    plt.show()\n",
        "    print(\"Размерность сжатой картинки: \", X_hat.shape)\n",
        "    \n",
        "    # Если нужно, рисуем главные компоненты \n",
        "    if draw_comp:\n",
        "        draw_components(pca, n, m)\n",
        "    \n",
        "    # Визуализируем проекцию на первые три компоненты (третья - цвет)\n",
        "    if visualization:\n",
        "        pca = PCA(n_components=3)\n",
        "        Y = pca.fit_transform(X)\n",
        "        plt.figure(figsize=(15, 10))\n",
        "        plt.scatter(Y[:, 0], Y[:, 1], c=Y[:, 2], alpha=0.1)\n",
        "        plt.xlabel('Проекция на первую главную компоненту')\n",
        "        plt.ylabel('Проекция на вторую главную компоненту')\n",
        "        plt.title('Проекция на первые три компоненты (третья - цвет)')\n",
        "        plt.show()\n",
        "    plt.imsave('im1.png', image)\n",
        "    print(\"Размер оригинального файла\", os.path.getsize('im1.png'))\n",
        "\n",
        "    plt.imsave('im2.png', X_hat)\n",
        "    print(\"Размер сжатого файла\", os.path.getsize('im2.png'))"
      ],
      "metadata": {
        "id": "UFcttvxfjCy3"
      },
      "execution_count": null,
      "outputs": []
    },
    {
      "cell_type": "code",
      "source": [
        "image = plt.imread('3840x2400.png')\n",
        "image_pca(image, 10, 10)"
      ],
      "metadata": {
        "id": "KaFWxG3YjRZ4"
      },
      "execution_count": null,
      "outputs": []
    },
    {
      "cell_type": "code",
      "source": [
        "for n_components in [15, 10, 5, 4, 3, 2, 1]:\n",
        "    image_pca(image, 10, 10, \n",
        "              n_components=n_components, draw_picture=False,\n",
        "              draw_comp=False, visualization=False)"
      ],
      "metadata": {
        "id": "30yJjrWpjRcZ"
      },
      "execution_count": null,
      "outputs": []
    },
    {
      "cell_type": "markdown",
      "source": [
        "## 4. PCA для MNIST"
      ],
      "metadata": {
        "id": "gdWdZsOyj34a"
      }
    },
    {
      "cell_type": "code",
      "source": [
        "! wget https://www.dropbox.com/s/gq1tj9bzj8dkcul/mnist_train.csv"
      ],
      "metadata": {
        "id": "rIZ_2NjHjC1Q"
      },
      "execution_count": null,
      "outputs": []
    },
    {
      "cell_type": "code",
      "source": [
        "mnist_data_all = pd.read_csv('gdrive/MyDrive/DS_class/5_LIN_AL/mnist_train.csv')"
      ],
      "metadata": {
        "id": "QL0CygMNp-M0"
      },
      "execution_count": null,
      "outputs": []
    },
    {
      "cell_type": "code",
      "source": [
        "mnist_label = mnist_data_all['label']\n",
        "\n",
        "mnist_data = mnist_data_all.drop(columns = [\"label\"])"
      ],
      "metadata": {
        "id": "QBFDKSnNqKbF"
      },
      "execution_count": null,
      "outputs": []
    },
    {
      "cell_type": "code",
      "source": [
        "print(mnist_data.shape)\n",
        "print(mnist_label.shape)"
      ],
      "metadata": {
        "id": "WKY53JD2qKdW"
      },
      "execution_count": null,
      "outputs": []
    },
    {
      "cell_type": "code",
      "source": [
        "mnist_data"
      ],
      "metadata": {
        "id": "xrsCHcOgqKfq"
      },
      "execution_count": null,
      "outputs": []
    },
    {
      "cell_type": "code",
      "source": [
        "idx = 6\n",
        "\n",
        "print(\"Label: \", mnist_label[idx])\n",
        "\n",
        "plt.figure(figsize=(7,7))\n",
        "\n",
        "grid_data = mnist_data.iloc[idx].to_numpy().reshape(28,28)  # reshape from 1d to 2d pixel array\n",
        "plt.imshow(grid_data, interpolation = \"none\", cmap = \"gray\")\n",
        "plt.show()"
      ],
      "metadata": {
        "id": "mEJwIypcqKhS"
      },
      "execution_count": null,
      "outputs": []
    },
    {
      "cell_type": "markdown",
      "source": [
        "Каждое число - 784 фичи. Как нам одним взглядом посмотреть на весь датасет?"
      ],
      "metadata": {
        "id": "Tr-PUAm1qTja"
      }
    },
    {
      "cell_type": "code",
      "source": [
        "pca = PCA(n_components=2)"
      ],
      "metadata": {
        "id": "4cjNhO8xqUQP"
      },
      "execution_count": null,
      "outputs": []
    },
    {
      "cell_type": "code",
      "source": [
        "pca.fit(mnist_data)"
      ],
      "metadata": {
        "id": "Tubynw2uqUwm"
      },
      "execution_count": null,
      "outputs": []
    },
    {
      "cell_type": "code",
      "source": [
        "mnist_data_2D = pca.transform(mnist_data)"
      ],
      "metadata": {
        "id": "gpZL7PdvqUyy"
      },
      "execution_count": null,
      "outputs": []
    },
    {
      "cell_type": "code",
      "source": [
        "mnist_data_2D.shape"
      ],
      "metadata": {
        "id": "A62LItO5qaYo"
      },
      "execution_count": null,
      "outputs": []
    },
    {
      "cell_type": "code",
      "source": [
        "plt.figure(figsize=(10,10))\n",
        "plt.scatter(mnist_data_2D[:,0], mnist_data_2D[:,1], c=mnist_label)\n",
        "plt.colorbar()\n",
        "plt.show()"
      ],
      "metadata": {
        "id": "GbQnduY4qafY"
      },
      "execution_count": null,
      "outputs": []
    },
    {
      "cell_type": "markdown",
      "source": [
        "### Проклятие размерности\n",
        "Большая размерность приводит к следующим проблемам\n",
        "\n",
        "*   Нужно много памяти\n",
        "*   Трудоемкие вычисления\n",
        "*   Все элементы выборки начинают находится примерно на одинаковом расстоянии друг от друга!\n",
        "\n"
      ],
      "metadata": {
        "id": "jiiK8z95qkvw"
      }
    },
    {
      "cell_type": "code",
      "source": [
        "# Продемострируем проклятье размерности\n",
        "\n",
        "..."
      ],
      "metadata": {
        "id": "wpsuZlg5qahu"
      },
      "execution_count": null,
      "outputs": []
    },
    {
      "cell_type": "markdown",
      "source": [
        "Давайте как проклятье размерности может повлиять на работу алгоритмов машинного обучения"
      ],
      "metadata": {
        "id": "_TOVn-5JrFoZ"
      }
    },
    {
      "cell_type": "code",
      "source": [
        "! wget https://www.dropbox.com/s/xuya93ez6ff712x/mnist_test.csv?dl=0"
      ],
      "metadata": {
        "id": "yA1Ub14xrCNg"
      },
      "execution_count": null,
      "outputs": []
    },
    {
      "cell_type": "code",
      "source": [
        "mnist_data_test_all = pd.read_csv('gdrive/MyDrive/DS_class/5_LIN_AL/mnist_test.csv')"
      ],
      "metadata": {
        "id": "on6YYaAdrEOA"
      },
      "execution_count": null,
      "outputs": []
    },
    {
      "cell_type": "code",
      "source": [
        "mnist_label_test = mnist_data_test_all['label']\n",
        "\n",
        "mnist_data_test = mnist_data_test_all.drop(columns = [\"label\"])"
      ],
      "metadata": {
        "id": "6utypzrMrQOh"
      },
      "execution_count": null,
      "outputs": []
    },
    {
      "cell_type": "code",
      "source": [
        "mnist_label_test.shape"
      ],
      "metadata": {
        "id": "X_QgojzfrQQ0"
      },
      "execution_count": null,
      "outputs": []
    },
    {
      "cell_type": "code",
      "source": [
        "mnist_data_test"
      ],
      "metadata": {
        "id": "NXPNfhmSrUsR"
      },
      "execution_count": null,
      "outputs": []
    },
    {
      "cell_type": "code",
      "source": [
        "from sklearn.neighbors import KNeighborsClassifier"
      ],
      "metadata": {
        "id": "0oEWnQN8rUxG"
      },
      "execution_count": null,
      "outputs": []
    },
    {
      "cell_type": "code",
      "source": [
        "def reduce_and_learn(dim=2):\n",
        "    pca = PCA(n_components=dim)\n",
        "    pca.fit(mnist_data)\n",
        "    mnist_data_dim_D = pca.transform(mnist_data)\n",
        "    knn = KNeighborsClassifier(n_neighbors=5)\n",
        "    knn.fit(mnist_data_dim_D, mnist_label)\n",
        "\n",
        "    mnist_data_test_dim_D = pca.transform(mnist_data_test)\n",
        "\n",
        "    predict_quality = knn.score(mnist_data_test_dim_D, mnist_label_test)\n",
        "    return predict_quality"
      ],
      "metadata": {
        "id": "4ioGeVrHrUy-"
      },
      "execution_count": null,
      "outputs": []
    },
    {
      "cell_type": "code",
      "source": [
        "dims = [2, 5, 10, 20, 40, 80, 160, 320, 640, 784]\n",
        "predicts_quality = []\n",
        "\n",
        "for dim in dims:\n",
        "    print(dim)\n",
        "    predicts_quality.append(reduce_and_learn(dim=dim))"
      ],
      "metadata": {
        "id": "NqPRQ5b3rigW"
      },
      "execution_count": null,
      "outputs": []
    },
    {
      "cell_type": "code",
      "source": [
        "plt.figure(figsize=(10,8))\n",
        "plt.plot(dims, predicts_quality)\n",
        "plt.rc('font', size=12)\n",
        "plt.xlabel('Размерность')\n",
        "plt.ylabel('Качество предсказания')\n",
        "plt.grid()\n",
        "plt.show()"
      ],
      "metadata": {
        "id": "RhaqM0TYriiu"
      },
      "execution_count": null,
      "outputs": []
    },
    {
      "cell_type": "code",
      "source": [
        ""
      ],
      "metadata": {
        "id": "vo6DHANPrikx"
      },
      "execution_count": null,
      "outputs": []
    }
  ]
}