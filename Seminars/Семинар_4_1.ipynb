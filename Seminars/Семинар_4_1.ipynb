{
  "nbformat": 4,
  "nbformat_minor": 0,
  "metadata": {
    "colab": {
      "name": "Семинар-4.1.ipynb",
      "provenance": [],
      "collapsed_sections": [],
      "include_colab_link": true
    },
    "kernelspec": {
      "name": "python3",
      "display_name": "Python 3"
    },
    "language_info": {
      "name": "python"
    }
  },
  "cells": [
    {
      "cell_type": "markdown",
      "metadata": {
        "id": "view-in-github",
        "colab_type": "text"
      },
      "source": [
        "<a href=\"https://colab.research.google.com/github/VorobyvEgor/Seminar_Sber/blob/main/Seminars/%D0%A1%D0%B5%D0%BC%D0%B8%D0%BD%D0%B0%D1%80_4_1.ipynb\" target=\"_parent\"><img src=\"https://colab.research.google.com/assets/colab-badge.svg\" alt=\"Open In Colab\"/></a>"
      ]
    },
    {
      "cell_type": "code",
      "metadata": {
        "id": "SMIffFOBnkc7"
      },
      "source": [
        "import numpy as np\n",
        "import matplotlib.pyplot as plt\n",
        "import tqdm"
      ],
      "execution_count": null,
      "outputs": []
    },
    {
      "cell_type": "code",
      "metadata": {
        "id": "b5-hPSTVtdtt"
      },
      "source": [
        "def f(x):\n",
        "  return 5 * x[0] ** 2 + x[1] ** 2"
      ],
      "execution_count": null,
      "outputs": []
    },
    {
      "cell_type": "code",
      "source": [
        "u, v = np.mgrid[-20:20:0.5, -20:20:0.5]\n",
        "z = f([u, v])\n",
        "fig = plt.figure(figsize=(12, 8))\n",
        "ax = fig.add_subplot(projection='3d')\n",
        "ax.plot_surface(u, v, z, cmap='inferno')\n",
        "fig.show()"
      ],
      "metadata": {
        "id": "KnUULF_DaRRb"
      },
      "execution_count": null,
      "outputs": []
    },
    {
      "cell_type": "code",
      "metadata": {
        "id": "h0jNtOTftqvj"
      },
      "source": [
        "def g(x):\n",
        "  return np.array([10 * x[0], 2 * x[1]])"
      ],
      "execution_count": null,
      "outputs": []
    },
    {
      "cell_type": "code",
      "source": [
        "g([1, 2])"
      ],
      "metadata": {
        "id": "jVwXwivs2sBf"
      },
      "execution_count": null,
      "outputs": []
    },
    {
      "cell_type": "code",
      "metadata": {
        "id": "9Gc4IUPAuRno"
      },
      "source": [
        "def grad_descent(theta0, func_grad, func, eta=0.01, tolerance=0.0001, n_iter=150):\n",
        "  \"\"\"\n",
        "  theta0 - начальный вектор аргументов функции (начальное приближение, откуда шагаем)\n",
        "  func_grad - градиент функциия (объект функции на питоне)\n",
        "  func - функция, минимум которой хотим найти\n",
        "  eta - leraning rate (шаг обучения)\n",
        "  tolerance - критерий остановки (если изменение весов меньше чем это значение)\n",
        "  n_iter - количество итераций в градиентном спуске\n",
        "  \"\"\"\n",
        "\n",
        "  theta = theta0\n",
        "  history = [theta0]\n",
        "\n",
        "  for iter_id in tqdm.tqdm(range(n_iter)):\n",
        "    gr = func_grad(theta)\n",
        "    theta = theta - eta * gr #(gr / np.sqrt((gr**2).sum()))\n",
        "    history.append(theta)\n",
        "\n",
        "    # print(func(theta), func(history[-2]))\n",
        "\n",
        "    # if (np.abs(theta - history[-2]) < tolerance).all():\n",
        "    if np.abs(func(theta) - func(history[-2])) < tolerance:\n",
        "      break\n",
        "\n",
        "  return np.array(history)"
      ],
      "execution_count": null,
      "outputs": []
    },
    {
      "cell_type": "code",
      "metadata": {
        "id": "Ov5uCLDFzCn7"
      },
      "source": [
        "hist = grad_descent(np.array([18, 7]), g, f, n_iter=10000)"
      ],
      "execution_count": null,
      "outputs": []
    },
    {
      "cell_type": "code",
      "metadata": {
        "id": "qOeu6pjTziwv"
      },
      "source": [
        "plt.figure(figsize=(15, 8))\n",
        "plt.plot(hist)\n",
        "plt.xlabel('Номер итерации')\n",
        "plt.ylabel('Значение аргумента на итерации')\n",
        "plt.show()"
      ],
      "execution_count": null,
      "outputs": []
    },
    {
      "cell_type": "code",
      "metadata": {
        "id": "YVjYoed0zmTD"
      },
      "source": [
        "fig = plt.figure(figsize=(12,8))\n",
        "ax = fig.add_subplot(projection='3d')\n",
        "ax.plot_surface(u, v, z, cmap='inferno', alpha=0.3)\n",
        "ax.plot(hist[:, 0], hist[:, 1], f([hist[:, 0], hist[:, 1]]), color='blue')\n",
        "fig.show()"
      ],
      "execution_count": null,
      "outputs": []
    }
  ]
}