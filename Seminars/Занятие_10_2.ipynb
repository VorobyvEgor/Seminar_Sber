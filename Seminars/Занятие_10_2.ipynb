{
  "nbformat": 4,
  "nbformat_minor": 0,
  "metadata": {
    "anaconda-cloud": {},
    "kernelspec": {
      "display_name": "Py3 research env",
      "language": "python",
      "name": "py3_research"
    },
    "language_info": {
      "codemirror_mode": {
        "name": "ipython",
        "version": 3
      },
      "file_extension": ".py",
      "mimetype": "text/x-python",
      "name": "python",
      "nbconvert_exporter": "python",
      "pygments_lexer": "ipython3",
      "version": "3.6.5"
    },
    "colab": {
      "name": "Занятие-10-2.ipynb",
      "provenance": [],
      "collapsed_sections": [],
      "include_colab_link": true
    }
  },
  "cells": [
    {
      "cell_type": "markdown",
      "metadata": {
        "id": "view-in-github",
        "colab_type": "text"
      },
      "source": [
        "<a href=\"https://colab.research.google.com/github/VorobyvEgor/Seminar_Sber/blob/main/Seminars/%D0%97%D0%B0%D0%BD%D1%8F%D1%82%D0%B8%D0%B5_10_2.ipynb\" target=\"_parent\"><img src=\"https://colab.research.google.com/assets/colab-badge.svg\" alt=\"Open In Colab\"/></a>"
      ]
    },
    {
      "cell_type": "code",
      "source": [
        "from matplotlib import pyplot as plt\n",
        "import numpy as np\n",
        "import pandas as pd\n",
        "import seaborn as sns\n",
        "from sklearn.linear_model import LogisticRegression\n",
        "from sklearn.preprocessing import LabelEncoder, MinMaxScaler\n",
        "from sklearn.model_selection import train_test_split, cross_val_score, cross_val_predict\n",
        "from sklearn.metrics import confusion_matrix\n",
        "\n",
        "%matplotlib inline"
      ],
      "metadata": {
        "id": "xep-wUdm597B"
      },
      "execution_count": null,
      "outputs": []
    },
    {
      "cell_type": "markdown",
      "source": [
        "Пройдем весь путь от загрузки данных до создания файла с ответами для датасета Титаник: https://www.kaggle.com/c/titanic/data?select=train.csv"
      ],
      "metadata": {
        "id": "TWpDdqeWBgU8"
      }
    },
    {
      "cell_type": "markdown",
      "source": [
        "1. Загрузка данных"
      ],
      "metadata": {
        "id": "F6zObs9U6JJh"
      }
    },
    {
      "cell_type": "code",
      "source": [
        "! wget https://www.dropbox.com/s/5dedxy5zeydon9m/test.csv\n",
        "! wget https://www.dropbox.com/s/tnjuesm1uiquxe2/train.csv"
      ],
      "metadata": {
        "id": "tVUaDfvkr7lH"
      },
      "execution_count": null,
      "outputs": []
    },
    {
      "cell_type": "code",
      "source": [
        "trd = pd.read_csv('train.csv')\n",
        "tsd = pd.read_csv('test.csv')\n",
        "td = pd.concat([trd, tsd], ignore_index=True, sort = False)\n",
        "td = td.set_index('PassengerId')\n",
        "print(td.shape)\n",
        "td.head()"
      ],
      "metadata": {
        "id": "-P_z2lED5947"
      },
      "execution_count": null,
      "outputs": []
    },
    {
      "cell_type": "markdown",
      "source": [
        "2. Пропущенные значения"
      ],
      "metadata": {
        "id": "1T84L56d6KMY"
      }
    },
    {
      "cell_type": "code",
      "source": [
        "# td.isnull().sum()\n",
        "sns.heatmap(td.isnull(), cbar = False).set_title(\"Missing values heatmap\")"
      ],
      "metadata": {
        "id": "uv5WWj03592i"
      },
      "execution_count": null,
      "outputs": []
    },
    {
      "cell_type": "markdown",
      "source": [
        "3. Категориальные признаки"
      ],
      "metadata": {
        "id": "_5UYGegu6fGv"
      }
    },
    {
      "cell_type": "markdown",
      "source": [
        "Далее, чтобы определить категориальные признаки, можно посмотреть на количество уникальных значений в каждом столбце. Признаки «Sex» и «Survived» имеют два возможных значения, а «Embarked» и «Pclass» имели три возможных значения."
      ],
      "metadata": {
        "id": "hw4UmGo86Rnq"
      }
    },
    {
      "cell_type": "code",
      "source": [
        "td.nunique()"
      ],
      "metadata": {
        "id": "bMm9L5K359zk"
      },
      "execution_count": null,
      "outputs": []
    },
    {
      "cell_type": "markdown",
      "source": [
        "4. Новые признаки"
      ],
      "metadata": {
        "id": "dgU27b6k6t0h"
      }
    },
    {
      "cell_type": "code",
      "source": [
        "td['Family'] = td.Parch + td.SibSp\n",
        "td['Is_Alone'] = td.Family == 0\n",
        "td['Fare_Category'] = pd.cut(td['Fare'], bins=[0,7.90,14.45,31.28,120], labels=['Low','Mid', 'High_Mid','High'])"
      ],
      "metadata": {
        "id": "hDDL1o4659wR"
      },
      "execution_count": null,
      "outputs": []
    },
    {
      "cell_type": "markdown",
      "source": [
        "5. Заполнение пропусков"
      ],
      "metadata": {
        "id": "zJAPSPSh7Krg"
      }
    },
    {
      "cell_type": "code",
      "source": [
        "td.Embarked.fillna(td.Embarked.mode()[0], inplace = True)\n",
        "td.Cabin = td.Cabin.fillna('NA')"
      ],
      "metadata": {
        "id": "pfe6DPq259s5"
      },
      "execution_count": null,
      "outputs": []
    },
    {
      "cell_type": "code",
      "source": [
        "td['Age'] = td['Age'].fillna(td['Age'].median())"
      ],
      "metadata": {
        "id": "Jz0ae8Ag59m2"
      },
      "execution_count": null,
      "outputs": []
    },
    {
      "cell_type": "markdown",
      "source": [
        "6. Кодирование категориальных переменных"
      ],
      "metadata": {
        "id": "7qem_4KY7m55"
      }
    },
    {
      "cell_type": "code",
      "source": [
        "td['Sex'] = LabelEncoder().fit_transform(td['Sex'])"
      ],
      "metadata": {
        "id": "ZFvQEmTI7jTj"
      },
      "execution_count": null,
      "outputs": []
    },
    {
      "cell_type": "code",
      "source": [
        "pd.get_dummies(td.Embarked, prefix=\"Emb\", drop_first = True)"
      ],
      "metadata": {
        "id": "Las2FA-Z7jQc"
      },
      "execution_count": null,
      "outputs": []
    },
    {
      "cell_type": "code",
      "source": [
        "td = pd.concat([td, pd.get_dummies(td.Embarked, prefix=\"Emb\", drop_first = True)], axis=1)\n",
        "print(td.shape)\n",
        "td.head()"
      ],
      "metadata": {
        "id": "sB_3LSxxFfK0"
      },
      "execution_count": null,
      "outputs": []
    },
    {
      "cell_type": "markdown",
      "source": [
        "7. Удаляем лишние колонки"
      ],
      "metadata": {
        "id": "aAZY9T6f71mR"
      }
    },
    {
      "cell_type": "code",
      "source": [
        "td.drop(['Pclass', 'Fare','Cabin', 'Fare_Category','Name', 'Ticket','Embarked', 'SibSp', 'Parch', 'Age'], axis=1, inplace=True)\n",
        "print(td.shape)\n",
        "td.head()"
      ],
      "metadata": {
        "id": "7MF5JVcd7jNA"
      },
      "execution_count": null,
      "outputs": []
    },
    {
      "cell_type": "markdown",
      "source": [
        "8. Формируем датасеты для train \\ test \\ submit"
      ],
      "metadata": {
        "id": "zfEW0E5X8AjQ"
      }
    },
    {
      "cell_type": "code",
      "source": [
        "# Датасет на котором делаем предсказания\n",
        "X_to_be_predicted = td[td.Survived.isnull()]\n",
        "X_to_be_predicted = X_to_be_predicted.drop(['Survived'], axis = 1)"
      ],
      "metadata": {
        "id": "MbEqqJ5p8oN5"
      },
      "execution_count": null,
      "outputs": []
    },
    {
      "cell_type": "code",
      "source": [
        "#Training data\n",
        "train_data = td\n",
        "train_data = train_data.dropna()\n",
        "label_train = train_data['Survived']\n",
        "feature_train = train_data.drop(['Survived'], axis = 1)"
      ],
      "metadata": {
        "id": "MmOmjmBq7jHx"
      },
      "execution_count": null,
      "outputs": []
    },
    {
      "cell_type": "code",
      "source": [
        "x_train, x_test, y_train, y_test = train_test_split(feature_train, label_train, test_size=0.2)"
      ],
      "metadata": {
        "id": "SAeKVKJX-Eyd"
      },
      "execution_count": null,
      "outputs": []
    },
    {
      "cell_type": "markdown",
      "source": [
        "9. Масштабирование признаков"
      ],
      "metadata": {
        "id": "HVuEachERH0p"
      }
    },
    {
      "cell_type": "code",
      "source": [
        "normalizer = MinMaxScaler()\n",
        "normalizer.fit(x_train)\n",
        "\n",
        "x_train_transformed = normalizer.transform(x_train)\n",
        "x_test_transformed = normalizer.transform(x_test)\n",
        "X_to_be_predicted_transformed = normalizer.transform(X_to_be_predicted)"
      ],
      "metadata": {
        "id": "oowM5w4PROmU"
      },
      "execution_count": null,
      "outputs": []
    },
    {
      "cell_type": "markdown",
      "source": [
        "10. Строим модель"
      ],
      "metadata": {
        "id": "AW9Gn-TtRsUS"
      }
    },
    {
      "cell_type": "code",
      "source": [
        "# Logistic Regression\n",
        "clf = LogisticRegression()\n",
        "clf.fit(x_train_transformed, y_train)\n",
        "print(\"Accuracy: \"+repr(round(clf.score(x_test_transformed, y_test) * 100, 2)) + \"%\")\n",
        "\n",
        "cvs = cross_val_score(clf, x_train_transformed, y_train, cv=10, scoring='accuracy')\n",
        "print('The cross validated score for Random forest is:',round(cvs.mean()*100,2))\n",
        "\n",
        "y_pred = cross_val_predict(clf, x_train_transformed, y_train, cv=10)\n",
        "sns.heatmap(confusion_matrix(y_train, y_pred), annot=True, fmt='3.0f', cmap=\"summer\")\n",
        "plt.title('Confusion_matrix', y=1.05, size=15)"
      ],
      "metadata": {
        "id": "Sfd7ZRcN9Zf_"
      },
      "execution_count": null,
      "outputs": []
    },
    {
      "cell_type": "markdown",
      "source": [
        "11. Создание файла с прогнозами"
      ],
      "metadata": {
        "id": "okMiChqRA3In"
      }
    },
    {
      "cell_type": "code",
      "source": [
        "result = clf.predict(X_to_be_predicted_transformed)\n",
        "submission = pd.DataFrame({'PassengerId':X_to_be_predicted.index,'Survived':result})\n",
        "submission.Survived = submission.Survived.astype(int)\n",
        "print(submission.shape)\n",
        "submission.head()"
      ],
      "metadata": {
        "id": "bv4-ds-M7jBm"
      },
      "execution_count": null,
      "outputs": []
    },
    {
      "cell_type": "code",
      "source": [
        "filename = 'Titanic Predictions.csv'\n",
        "submission.to_csv(filename,index=False)"
      ],
      "metadata": {
        "id": "5-CQ_YNZ7i8x"
      },
      "execution_count": null,
      "outputs": []
    },
    {
      "cell_type": "markdown",
      "source": [
        "#### SVM\n",
        "Попробуем использовать вместо logreg "
      ],
      "metadata": {
        "id": "KFuXyJ9WR85D"
      }
    },
    {
      "cell_type": "code",
      "source": [
        "from sklearn.svm import SVC"
      ],
      "metadata": {
        "id": "dkQMOaxESPkj"
      },
      "execution_count": null,
      "outputs": []
    },
    {
      "cell_type": "code",
      "source": [
        "# SVM\n",
        "clf = SVC()\n",
        "clf.fit(x_train_transformed, y_train)\n",
        "print(\"Accuracy: \"+repr(round(clf.score(x_test_transformed, y_test) * 100, 2)) + \"%\")\n",
        "\n",
        "cvs = cross_val_score(clf, x_train_transformed, y_train, cv=10, scoring='accuracy')\n",
        "print('The cross validated score for Random forest is:',round(cvs.mean()*100,2))\n",
        "\n",
        "y_pred = cross_val_predict(clf, x_train_transformed, y_train, cv=10)\n",
        "sns.heatmap(confusion_matrix(y_train, y_pred), annot=True, fmt='3.0f', cmap=\"summer\")\n",
        "plt.title('Confusion_matrix', y=1.05, size=15)"
      ],
      "metadata": {
        "id": "Tiz8vLHQ7i5n"
      },
      "execution_count": null,
      "outputs": []
    },
    {
      "cell_type": "code",
      "source": [
        "result = clf.predict(X_to_be_predicted_transformed)\n",
        "submission = pd.DataFrame({'PassengerId':X_to_be_predicted.index,'Survived':result})\n",
        "submission.Survived = submission.Survived.astype(int)\n",
        "print(submission.shape)\n",
        "submission.head()"
      ],
      "metadata": {
        "id": "XJxpdJnF7i2p"
      },
      "execution_count": null,
      "outputs": []
    },
    {
      "cell_type": "code",
      "source": [
        "filename = 'Titanic Predictions SVM.csv'\n",
        "submission.to_csv(filename,index=False)"
      ],
      "metadata": {
        "id": "meJk7UHZSYKP"
      },
      "execution_count": null,
      "outputs": []
    },
    {
      "cell_type": "code",
      "source": [
        ""
      ],
      "metadata": {
        "id": "Emiy2Q3XSYHV"
      },
      "execution_count": null,
      "outputs": []
    }
  ]
}